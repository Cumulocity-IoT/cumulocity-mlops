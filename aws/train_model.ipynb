{
 "cells": [
  {
   "cell_type": "code",
   "execution_count": null,
   "id": "eff869aa-8b98-454d-9ea8-24bce852f067",
   "metadata": {
    "tags": []
   },
   "outputs": [],
   "source": [
    "# run init.ipynb before"
   ]
  },
  {
   "cell_type": "code",
   "execution_count": 2,
   "id": "6a57cfab-0c0e-4bb1-a55c-c8c6843280b3",
   "metadata": {
    "tags": []
   },
   "outputs": [],
   "source": [
    "bucket = 'mstoffel'\n",
    "subfolder = 'mstoffel/t15264971/measurements_c8y_Acceleration/'"
   ]
  },
  {
   "cell_type": "code",
   "execution_count": 3,
   "id": "a575afcd-feda-4393-ab31-5bb02bfdaa73",
   "metadata": {
    "tags": []
   },
   "outputs": [],
   "source": [
    "import numpy as np\n",
    "import pandas as pd\n",
    "import os\n",
    "import s3fs\n",
    "import pyarrow as pa\n",
    "import pyarrow.parquet as pq\n",
    "import tensorflow as tf\n",
    "import tf2onnx\n",
    "import onnx"
   ]
  },
  {
   "cell_type": "code",
   "execution_count": 4,
   "id": "5a5ec26d-fbb1-424c-a4b6-f599e7ba6bee",
   "metadata": {
    "tags": []
   },
   "outputs": [],
   "source": [
    "##\n",
    "# the following path is hardcoded\n",
    "# TODO find a more clever way to identify the data\n",
    "##\n",
    "S3_BCUKET = \"mstoffel/mstoffel/t15264971\"\n",
    "DATA_PATH = f\"{S3_BCUKET}/measurements_c8y_Acceleration/chunk_P1_108_109_1686268800000_1687860401522_295601521/0_2023/0_06/0_27/0_0_0.parquet\"\n",
    "MODEL_NAME = 'acceleration_model.onnx'\n",
    "FULL_MODEL_PATH = f\"{S3_BCUKET}/model/{MODEL_NAME}\"\n",
    "fs = s3fs.S3FileSystem()\n",
    "\n",
    "pf = pq.ParquetDataset(\n",
    "    DATA_PATH,\n",
    "    filesystem=fs)"
   ]
  },
  {
   "cell_type": "code",
   "execution_count": 5,
   "id": "6430bb6b-80c3-40d3-a435-9bafd41849de",
   "metadata": {
    "tags": []
   },
   "outputs": [],
   "source": [
    "##\n",
    "# something along the line ...\n",
    "##\n",
    "#s3_filepath = 'mstoffel/mstoffel/t15264971/measurements_c8y_Acceleration/chunk_P1_108_109_1686268800000_1687860401522_295601521/0_2023/0_06/0_27'\n",
    "#s3_filepaths = [path for path in fs.ls(s3_filepath)\n",
    "#                if path.endswith('.parquet')]\n",
    "\n",
    "\n",
    "# s3_filepaths"
   ]
  },
  {
   "cell_type": "code",
   "execution_count": 6,
   "id": "4b3940de-a098-4baa-86a9-fafe6a9c71d2",
   "metadata": {
    "tags": []
   },
   "outputs": [
    {
     "data": {
      "text/plain": [
       "id: string\n",
       "creationTime: timestamp[ms, tz=UTC]\n",
       "creationTimeOffset: int32\n",
       "creationTimeWithOffset: timestamp[ms, tz=UTC]\n",
       "YEAR: string\n",
       "MONTH: string\n",
       "DAY: string\n",
       "time: timestamp[ms, tz=UTC]\n",
       "timeOffset: int32\n",
       "timeWithOffset: timestamp[ms, tz=UTC]\n",
       "source: string\n",
       "type: string\n",
       "c8y_Acceleration.accelerationX.label: string\n",
       "c8y_Acceleration.accelerationX.value: double\n",
       "c8y_Acceleration.accelerationY.label: string\n",
       "c8y_Acceleration.accelerationY.value: double\n",
       "c8y_Acceleration.accelerationZ.label: string\n",
       "c8y_Acceleration.accelerationZ.value: double\n",
       "-- schema metadata --\n",
       "is.date.correct: 'true'\n",
       "dremio.arrow.schema.2.1: '{\n",
       "  \"fields\" : [ {\n",
       "    \"name\" : \"id\",\n",
       "    \"null' + 2759\n",
       "dremio.version: '19.11.2-202301280043390504-e5820c5a'"
      ]
     },
     "execution_count": 6,
     "metadata": {},
     "output_type": "execute_result"
    }
   ],
   "source": [
    "# show schema\n",
    "pf.schema"
   ]
  },
  {
   "cell_type": "code",
   "execution_count": 7,
   "id": "e7c17fba-4d24-462f-9c9d-cab7cf5b9652",
   "metadata": {
    "tags": []
   },
   "outputs": [
    {
     "data": {
      "text/html": [
       "<div>\n",
       "<style scoped>\n",
       "    .dataframe tbody tr th:only-of-type {\n",
       "        vertical-align: middle;\n",
       "    }\n",
       "\n",
       "    .dataframe tbody tr th {\n",
       "        vertical-align: top;\n",
       "    }\n",
       "\n",
       "    .dataframe thead th {\n",
       "        text-align: right;\n",
       "    }\n",
       "</style>\n",
       "<table border=\"1\" class=\"dataframe\">\n",
       "  <thead>\n",
       "    <tr style=\"text-align: right;\">\n",
       "      <th></th>\n",
       "      <th>id</th>\n",
       "      <th>creationTime</th>\n",
       "      <th>creationTimeOffset</th>\n",
       "      <th>creationTimeWithOffset</th>\n",
       "      <th>YEAR</th>\n",
       "      <th>MONTH</th>\n",
       "      <th>DAY</th>\n",
       "      <th>time</th>\n",
       "      <th>timeOffset</th>\n",
       "      <th>timeWithOffset</th>\n",
       "      <th>source</th>\n",
       "      <th>type</th>\n",
       "      <th>c8y_Acceleration.accelerationX.label</th>\n",
       "      <th>c8y_Acceleration.accelerationX.value</th>\n",
       "      <th>c8y_Acceleration.accelerationY.label</th>\n",
       "      <th>c8y_Acceleration.accelerationY.value</th>\n",
       "      <th>c8y_Acceleration.accelerationZ.label</th>\n",
       "      <th>c8y_Acceleration.accelerationZ.value</th>\n",
       "    </tr>\n",
       "  </thead>\n",
       "  <tbody>\n",
       "    <tr>\n",
       "      <th>551</th>\n",
       "      <td>58567575</td>\n",
       "      <td>2023-06-27 10:00:23.744000+00:00</td>\n",
       "      <td>0</td>\n",
       "      <td>2023-06-27 10:00:23.744000+00:00</td>\n",
       "      <td>2023</td>\n",
       "      <td>06</td>\n",
       "      <td>27</td>\n",
       "      <td>2023-04-03 07:37:00+00:00</td>\n",
       "      <td>120</td>\n",
       "      <td>2023-04-03 09:37:00+00:00</td>\n",
       "      <td>5558565188</td>\n",
       "      <td>c8y_Acceleration</td>\n",
       "      <td>moving</td>\n",
       "      <td>0.508636</td>\n",
       "      <td>moving</td>\n",
       "      <td>0.606796</td>\n",
       "      <td>moving</td>\n",
       "      <td>-0.708145</td>\n",
       "    </tr>\n",
       "    <tr>\n",
       "      <th>172</th>\n",
       "      <td>58571316</td>\n",
       "      <td>2023-06-27 10:00:30.610000+00:00</td>\n",
       "      <td>0</td>\n",
       "      <td>2023-06-27 10:00:30.610000+00:00</td>\n",
       "      <td>2023</td>\n",
       "      <td>06</td>\n",
       "      <td>27</td>\n",
       "      <td>2023-04-03 07:36:13.500000+00:00</td>\n",
       "      <td>120</td>\n",
       "      <td>2023-04-03 09:36:13.500000+00:00</td>\n",
       "      <td>5558565188</td>\n",
       "      <td>c8y_Acceleration</td>\n",
       "      <td>moving</td>\n",
       "      <td>0.761322</td>\n",
       "      <td>moving</td>\n",
       "      <td>0.104385</td>\n",
       "      <td>moving</td>\n",
       "      <td>-1.215836</td>\n",
       "    </tr>\n",
       "    <tr>\n",
       "      <th>428</th>\n",
       "      <td>58567011</td>\n",
       "      <td>2023-06-27 10:00:29.936000+00:00</td>\n",
       "      <td>0</td>\n",
       "      <td>2023-06-27 10:00:29.936000+00:00</td>\n",
       "      <td>2023</td>\n",
       "      <td>06</td>\n",
       "      <td>27</td>\n",
       "      <td>2023-04-03 07:36:59.500000+00:00</td>\n",
       "      <td>120</td>\n",
       "      <td>2023-04-03 09:36:59.500000+00:00</td>\n",
       "      <td>5558565188</td>\n",
       "      <td>c8y_Acceleration</td>\n",
       "      <td>moving</td>\n",
       "      <td>1.101227</td>\n",
       "      <td>moving</td>\n",
       "      <td>-0.117447</td>\n",
       "      <td>moving</td>\n",
       "      <td>-0.600128</td>\n",
       "    </tr>\n",
       "    <tr>\n",
       "      <th>185</th>\n",
       "      <td>58567002</td>\n",
       "      <td>2023-06-27 10:00:28.990000+00:00</td>\n",
       "      <td>0</td>\n",
       "      <td>2023-06-27 10:00:28.990000+00:00</td>\n",
       "      <td>2023</td>\n",
       "      <td>06</td>\n",
       "      <td>27</td>\n",
       "      <td>2023-04-03 07:25:06.500000+00:00</td>\n",
       "      <td>120</td>\n",
       "      <td>2023-04-03 09:25:06.500000+00:00</td>\n",
       "      <td>5558565188</td>\n",
       "      <td>c8y_Acceleration</td>\n",
       "      <td>sitting</td>\n",
       "      <td>0.010040</td>\n",
       "      <td>sitting</td>\n",
       "      <td>0.023682</td>\n",
       "      <td>sitting</td>\n",
       "      <td>0.997513</td>\n",
       "    </tr>\n",
       "    <tr>\n",
       "      <th>399</th>\n",
       "      <td>58567025</td>\n",
       "      <td>2023-06-27 10:00:31.363000+00:00</td>\n",
       "      <td>0</td>\n",
       "      <td>2023-06-27 10:00:31.363000+00:00</td>\n",
       "      <td>2023</td>\n",
       "      <td>06</td>\n",
       "      <td>27</td>\n",
       "      <td>2023-04-03 07:36:47.500000+00:00</td>\n",
       "      <td>120</td>\n",
       "      <td>2023-04-03 09:36:47.500000+00:00</td>\n",
       "      <td>5558565188</td>\n",
       "      <td>c8y_Acceleration</td>\n",
       "      <td>moving</td>\n",
       "      <td>-0.080902</td>\n",
       "      <td>moving</td>\n",
       "      <td>0.095108</td>\n",
       "      <td>moving</td>\n",
       "      <td>1.228516</td>\n",
       "    </tr>\n",
       "  </tbody>\n",
       "</table>\n",
       "</div>"
      ],
      "text/plain": [
       "           id                     creationTime  creationTimeOffset  \\\n",
       "551  58567575 2023-06-27 10:00:23.744000+00:00                   0   \n",
       "172  58571316 2023-06-27 10:00:30.610000+00:00                   0   \n",
       "428  58567011 2023-06-27 10:00:29.936000+00:00                   0   \n",
       "185  58567002 2023-06-27 10:00:28.990000+00:00                   0   \n",
       "399  58567025 2023-06-27 10:00:31.363000+00:00                   0   \n",
       "\n",
       "              creationTimeWithOffset  YEAR MONTH DAY  \\\n",
       "551 2023-06-27 10:00:23.744000+00:00  2023    06  27   \n",
       "172 2023-06-27 10:00:30.610000+00:00  2023    06  27   \n",
       "428 2023-06-27 10:00:29.936000+00:00  2023    06  27   \n",
       "185 2023-06-27 10:00:28.990000+00:00  2023    06  27   \n",
       "399 2023-06-27 10:00:31.363000+00:00  2023    06  27   \n",
       "\n",
       "                                time  timeOffset  \\\n",
       "551        2023-04-03 07:37:00+00:00         120   \n",
       "172 2023-04-03 07:36:13.500000+00:00         120   \n",
       "428 2023-04-03 07:36:59.500000+00:00         120   \n",
       "185 2023-04-03 07:25:06.500000+00:00         120   \n",
       "399 2023-04-03 07:36:47.500000+00:00         120   \n",
       "\n",
       "                      timeWithOffset      source              type  \\\n",
       "551        2023-04-03 09:37:00+00:00  5558565188  c8y_Acceleration   \n",
       "172 2023-04-03 09:36:13.500000+00:00  5558565188  c8y_Acceleration   \n",
       "428 2023-04-03 09:36:59.500000+00:00  5558565188  c8y_Acceleration   \n",
       "185 2023-04-03 09:25:06.500000+00:00  5558565188  c8y_Acceleration   \n",
       "399 2023-04-03 09:36:47.500000+00:00  5558565188  c8y_Acceleration   \n",
       "\n",
       "    c8y_Acceleration.accelerationX.label  \\\n",
       "551                               moving   \n",
       "172                               moving   \n",
       "428                               moving   \n",
       "185                              sitting   \n",
       "399                               moving   \n",
       "\n",
       "     c8y_Acceleration.accelerationX.value  \\\n",
       "551                              0.508636   \n",
       "172                              0.761322   \n",
       "428                              1.101227   \n",
       "185                              0.010040   \n",
       "399                             -0.080902   \n",
       "\n",
       "    c8y_Acceleration.accelerationY.label  \\\n",
       "551                               moving   \n",
       "172                               moving   \n",
       "428                               moving   \n",
       "185                              sitting   \n",
       "399                               moving   \n",
       "\n",
       "     c8y_Acceleration.accelerationY.value  \\\n",
       "551                              0.606796   \n",
       "172                              0.104385   \n",
       "428                             -0.117447   \n",
       "185                              0.023682   \n",
       "399                              0.095108   \n",
       "\n",
       "    c8y_Acceleration.accelerationZ.label  c8y_Acceleration.accelerationZ.value  \n",
       "551                               moving                             -0.708145  \n",
       "172                               moving                             -1.215836  \n",
       "428                               moving                             -0.600128  \n",
       "185                              sitting                              0.997513  \n",
       "399                               moving                              1.228516  "
      ]
     },
     "execution_count": 7,
     "metadata": {},
     "output_type": "execute_result"
    }
   ],
   "source": [
    "# convert parquet datatset to pandas\n",
    "data = pf.read().to_pandas()\n",
    "data.sample(5)"
   ]
  },
  {
   "cell_type": "code",
   "execution_count": 8,
   "id": "729fd155-1352-43b9-a1d2-b57333beb556",
   "metadata": {
    "tags": []
   },
   "outputs": [
    {
     "data": {
      "text/html": [
       "<div>\n",
       "<style scoped>\n",
       "    .dataframe tbody tr th:only-of-type {\n",
       "        vertical-align: middle;\n",
       "    }\n",
       "\n",
       "    .dataframe tbody tr th {\n",
       "        vertical-align: top;\n",
       "    }\n",
       "\n",
       "    .dataframe thead th {\n",
       "        text-align: right;\n",
       "    }\n",
       "</style>\n",
       "<table border=\"1\" class=\"dataframe\">\n",
       "  <thead>\n",
       "    <tr style=\"text-align: right;\">\n",
       "      <th></th>\n",
       "      <th>creationTime</th>\n",
       "      <th>creationTimeOffset</th>\n",
       "      <th>creationTimeWithOffset</th>\n",
       "      <th>YEAR</th>\n",
       "      <th>MONTH</th>\n",
       "      <th>DAY</th>\n",
       "      <th>time</th>\n",
       "      <th>timeOffset</th>\n",
       "      <th>timeWithOffset</th>\n",
       "      <th>source</th>\n",
       "      <th>type</th>\n",
       "      <th>c8y_Acceleration.accelerationX.label</th>\n",
       "      <th>c8y_Acceleration.accelerationX.value</th>\n",
       "      <th>c8y_Acceleration.accelerationY.label</th>\n",
       "      <th>c8y_Acceleration.accelerationY.value</th>\n",
       "      <th>c8y_Acceleration.accelerationZ.label</th>\n",
       "      <th>c8y_Acceleration.accelerationZ.value</th>\n",
       "    </tr>\n",
       "  </thead>\n",
       "  <tbody>\n",
       "    <tr>\n",
       "      <th>119</th>\n",
       "      <td>2023-06-27 10:00:26.907000+00:00</td>\n",
       "      <td>0</td>\n",
       "      <td>2023-06-27 10:00:26.907000+00:00</td>\n",
       "      <td>2023</td>\n",
       "      <td>06</td>\n",
       "      <td>27</td>\n",
       "      <td>2023-04-03 07:37:28.500000+00:00</td>\n",
       "      <td>120</td>\n",
       "      <td>2023-04-03 09:37:28.500000+00:00</td>\n",
       "      <td>5558565188</td>\n",
       "      <td>c8y_Acceleration</td>\n",
       "      <td>moving</td>\n",
       "      <td>0.107346</td>\n",
       "      <td>moving</td>\n",
       "      <td>0.017365</td>\n",
       "      <td>moving</td>\n",
       "      <td>1.277527</td>\n",
       "    </tr>\n",
       "    <tr>\n",
       "      <th>6</th>\n",
       "      <td>2023-06-27 10:00:15.796000+00:00</td>\n",
       "      <td>0</td>\n",
       "      <td>2023-06-27 10:00:15.796000+00:00</td>\n",
       "      <td>2023</td>\n",
       "      <td>06</td>\n",
       "      <td>27</td>\n",
       "      <td>2023-04-03 07:24:49+00:00</td>\n",
       "      <td>120</td>\n",
       "      <td>2023-04-03 09:24:49+00:00</td>\n",
       "      <td>5558565188</td>\n",
       "      <td>c8y_Acceleration</td>\n",
       "      <td>sitting</td>\n",
       "      <td>0.010559</td>\n",
       "      <td>sitting</td>\n",
       "      <td>0.024368</td>\n",
       "      <td>sitting</td>\n",
       "      <td>0.996017</td>\n",
       "    </tr>\n",
       "    <tr>\n",
       "      <th>109</th>\n",
       "      <td>2023-06-27 10:00:17.283000+00:00</td>\n",
       "      <td>0</td>\n",
       "      <td>2023-06-27 10:00:17.283000+00:00</td>\n",
       "      <td>2023</td>\n",
       "      <td>06</td>\n",
       "      <td>27</td>\n",
       "      <td>2023-04-03 07:25:38+00:00</td>\n",
       "      <td>120</td>\n",
       "      <td>2023-04-03 09:25:38+00:00</td>\n",
       "      <td>5558565188</td>\n",
       "      <td>c8y_Acceleration</td>\n",
       "      <td>sitting</td>\n",
       "      <td>0.011383</td>\n",
       "      <td>sitting</td>\n",
       "      <td>0.025131</td>\n",
       "      <td>sitting</td>\n",
       "      <td>0.997314</td>\n",
       "    </tr>\n",
       "    <tr>\n",
       "      <th>400</th>\n",
       "      <td>2023-06-27 10:00:26.192000+00:00</td>\n",
       "      <td>0</td>\n",
       "      <td>2023-06-27 10:00:26.192000+00:00</td>\n",
       "      <td>2023</td>\n",
       "      <td>06</td>\n",
       "      <td>27</td>\n",
       "      <td>2023-04-03 07:25:16+00:00</td>\n",
       "      <td>120</td>\n",
       "      <td>2023-04-03 09:25:16+00:00</td>\n",
       "      <td>5558565188</td>\n",
       "      <td>c8y_Acceleration</td>\n",
       "      <td>sitting</td>\n",
       "      <td>0.010651</td>\n",
       "      <td>sitting</td>\n",
       "      <td>0.024490</td>\n",
       "      <td>sitting</td>\n",
       "      <td>0.996017</td>\n",
       "    </tr>\n",
       "    <tr>\n",
       "      <th>393</th>\n",
       "      <td>2023-06-27 10:00:33.723000+00:00</td>\n",
       "      <td>0</td>\n",
       "      <td>2023-06-27 10:00:33.723000+00:00</td>\n",
       "      <td>2023</td>\n",
       "      <td>06</td>\n",
       "      <td>27</td>\n",
       "      <td>2023-04-03 07:24:47+00:00</td>\n",
       "      <td>120</td>\n",
       "      <td>2023-04-03 09:24:47+00:00</td>\n",
       "      <td>5558565188</td>\n",
       "      <td>c8y_Acceleration</td>\n",
       "      <td>sitting</td>\n",
       "      <td>0.010208</td>\n",
       "      <td>sitting</td>\n",
       "      <td>0.023712</td>\n",
       "      <td>sitting</td>\n",
       "      <td>0.997528</td>\n",
       "    </tr>\n",
       "  </tbody>\n",
       "</table>\n",
       "</div>"
      ],
      "text/plain": [
       "                        creationTime  creationTimeOffset  \\\n",
       "119 2023-06-27 10:00:26.907000+00:00                   0   \n",
       "6   2023-06-27 10:00:15.796000+00:00                   0   \n",
       "109 2023-06-27 10:00:17.283000+00:00                   0   \n",
       "400 2023-06-27 10:00:26.192000+00:00                   0   \n",
       "393 2023-06-27 10:00:33.723000+00:00                   0   \n",
       "\n",
       "              creationTimeWithOffset  YEAR MONTH DAY  \\\n",
       "119 2023-06-27 10:00:26.907000+00:00  2023    06  27   \n",
       "6   2023-06-27 10:00:15.796000+00:00  2023    06  27   \n",
       "109 2023-06-27 10:00:17.283000+00:00  2023    06  27   \n",
       "400 2023-06-27 10:00:26.192000+00:00  2023    06  27   \n",
       "393 2023-06-27 10:00:33.723000+00:00  2023    06  27   \n",
       "\n",
       "                                time  timeOffset  \\\n",
       "119 2023-04-03 07:37:28.500000+00:00         120   \n",
       "6          2023-04-03 07:24:49+00:00         120   \n",
       "109        2023-04-03 07:25:38+00:00         120   \n",
       "400        2023-04-03 07:25:16+00:00         120   \n",
       "393        2023-04-03 07:24:47+00:00         120   \n",
       "\n",
       "                      timeWithOffset      source              type  \\\n",
       "119 2023-04-03 09:37:28.500000+00:00  5558565188  c8y_Acceleration   \n",
       "6          2023-04-03 09:24:49+00:00  5558565188  c8y_Acceleration   \n",
       "109        2023-04-03 09:25:38+00:00  5558565188  c8y_Acceleration   \n",
       "400        2023-04-03 09:25:16+00:00  5558565188  c8y_Acceleration   \n",
       "393        2023-04-03 09:24:47+00:00  5558565188  c8y_Acceleration   \n",
       "\n",
       "    c8y_Acceleration.accelerationX.label  \\\n",
       "119                               moving   \n",
       "6                                sitting   \n",
       "109                              sitting   \n",
       "400                              sitting   \n",
       "393                              sitting   \n",
       "\n",
       "     c8y_Acceleration.accelerationX.value  \\\n",
       "119                              0.107346   \n",
       "6                                0.010559   \n",
       "109                              0.011383   \n",
       "400                              0.010651   \n",
       "393                              0.010208   \n",
       "\n",
       "    c8y_Acceleration.accelerationY.label  \\\n",
       "119                               moving   \n",
       "6                                sitting   \n",
       "109                              sitting   \n",
       "400                              sitting   \n",
       "393                              sitting   \n",
       "\n",
       "     c8y_Acceleration.accelerationY.value  \\\n",
       "119                              0.017365   \n",
       "6                                0.024368   \n",
       "109                              0.025131   \n",
       "400                              0.024490   \n",
       "393                              0.023712   \n",
       "\n",
       "    c8y_Acceleration.accelerationZ.label  c8y_Acceleration.accelerationZ.value  \n",
       "119                               moving                              1.277527  \n",
       "6                                sitting                              0.996017  \n",
       "109                              sitting                              0.997314  \n",
       "400                              sitting                              0.996017  \n",
       "393                              sitting                              0.997528  "
      ]
     },
     "execution_count": 8,
     "metadata": {},
     "output_type": "execute_result"
    }
   ],
   "source": [
    "#remove time column from the source\n",
    "data.pop(data.columns[0])\n",
    "data.sample(5)"
   ]
  },
  {
   "cell_type": "code",
   "execution_count": 9,
   "id": "0cd40a91-9567-46fb-85fe-9b1caa27462c",
   "metadata": {
    "tags": []
   },
   "outputs": [
    {
     "data": {
      "text/html": [
       "<div>\n",
       "<style scoped>\n",
       "    .dataframe tbody tr th:only-of-type {\n",
       "        vertical-align: middle;\n",
       "    }\n",
       "\n",
       "    .dataframe tbody tr th {\n",
       "        vertical-align: top;\n",
       "    }\n",
       "\n",
       "    .dataframe thead th {\n",
       "        text-align: right;\n",
       "    }\n",
       "</style>\n",
       "<table border=\"1\" class=\"dataframe\">\n",
       "  <thead>\n",
       "    <tr style=\"text-align: right;\">\n",
       "      <th></th>\n",
       "      <th>accelerationX</th>\n",
       "      <th>accelerationY</th>\n",
       "      <th>label</th>\n",
       "      <th>accelerationZ</th>\n",
       "    </tr>\n",
       "  </thead>\n",
       "  <tbody>\n",
       "    <tr>\n",
       "      <th>44</th>\n",
       "      <td>0.365356</td>\n",
       "      <td>-0.002930</td>\n",
       "      <td>moving</td>\n",
       "      <td>1.358551</td>\n",
       "    </tr>\n",
       "    <tr>\n",
       "      <th>431</th>\n",
       "      <td>0.007843</td>\n",
       "      <td>0.024094</td>\n",
       "      <td>sitting</td>\n",
       "      <td>0.997192</td>\n",
       "    </tr>\n",
       "    <tr>\n",
       "      <th>124</th>\n",
       "      <td>-0.270889</td>\n",
       "      <td>0.642654</td>\n",
       "      <td>moving</td>\n",
       "      <td>0.438583</td>\n",
       "    </tr>\n",
       "    <tr>\n",
       "      <th>448</th>\n",
       "      <td>0.009476</td>\n",
       "      <td>0.023788</td>\n",
       "      <td>sitting</td>\n",
       "      <td>0.998154</td>\n",
       "    </tr>\n",
       "    <tr>\n",
       "      <th>13</th>\n",
       "      <td>0.166626</td>\n",
       "      <td>0.421875</td>\n",
       "      <td>moving</td>\n",
       "      <td>0.610367</td>\n",
       "    </tr>\n",
       "  </tbody>\n",
       "</table>\n",
       "</div>"
      ],
      "text/plain": [
       "     accelerationX  accelerationY    label  accelerationZ\n",
       "44        0.365356      -0.002930   moving       1.358551\n",
       "431       0.007843       0.024094  sitting       0.997192\n",
       "124      -0.270889       0.642654   moving       0.438583\n",
       "448       0.009476       0.023788  sitting       0.998154\n",
       "13        0.166626       0.421875   moving       0.610367"
      ]
     },
     "execution_count": 9,
     "metadata": {},
     "output_type": "execute_result"
    }
   ],
   "source": [
    "\n",
    "# drop unused column and rename colum\n",
    "data = data.drop( ['creationTime', 'creationTimeOffset','creationTimeWithOffset', 'YEAR', 'MONTH', 'DAY', 'time', 'timeOffset', 'timeWithOffset', 'source', 'type',  'c8y_Acceleration.accelerationX.label', 'c8y_Acceleration.accelerationY.label'  ], axis = 1)\n",
    "\n",
    "data = data.rename(columns={\"c8y_Acceleration.accelerationZ.label\": \"label\" ,\"c8y_Acceleration.accelerationX.value\": \"accelerationX\", \"c8y_Acceleration.accelerationY.value\": \"accelerationY\",\"c8y_Acceleration.accelerationZ.value\": \"accelerationZ\"})\n",
    "\n",
    "data.sample(5)\n",
    "\n",
    "# pop the label columns\n",
    "#labels = data.pop(\"label\")\n",
    "#print(labels)"
   ]
  },
  {
   "cell_type": "code",
   "execution_count": 10,
   "id": "2108cf50-a558-4d35-98e2-e8e99623d04b",
   "metadata": {
    "tags": []
   },
   "outputs": [
    {
     "name": "stdout",
     "output_type": "stream",
     "text": [
      "0       moving\n",
      "1       moving\n",
      "2      sitting\n",
      "3       moving\n",
      "4       moving\n",
      "        ...   \n",
      "739    sitting\n",
      "740    sitting\n",
      "741    sitting\n",
      "742    sitting\n",
      "743    sitting\n",
      "Name: label, Length: 744, dtype: object\n"
     ]
    }
   ],
   "source": [
    "# pop the label columns\n",
    "labels = data.pop(\"label\")\n",
    "print(labels)"
   ]
  },
  {
   "cell_type": "code",
   "execution_count": 11,
   "id": "5e0eae82-6f12-4af4-820e-3a2a24640a9a",
   "metadata": {
    "tags": []
   },
   "outputs": [
    {
     "data": {
      "text/html": [
       "<div>\n",
       "<style scoped>\n",
       "    .dataframe tbody tr th:only-of-type {\n",
       "        vertical-align: middle;\n",
       "    }\n",
       "\n",
       "    .dataframe tbody tr th {\n",
       "        vertical-align: top;\n",
       "    }\n",
       "\n",
       "    .dataframe thead th {\n",
       "        text-align: right;\n",
       "    }\n",
       "</style>\n",
       "<table border=\"1\" class=\"dataframe\">\n",
       "  <thead>\n",
       "    <tr style=\"text-align: right;\">\n",
       "      <th></th>\n",
       "      <th>accelerationX</th>\n",
       "      <th>accelerationY</th>\n",
       "      <th>accelerationZ</th>\n",
       "    </tr>\n",
       "  </thead>\n",
       "  <tbody>\n",
       "    <tr>\n",
       "      <th>657</th>\n",
       "      <td>2.260148</td>\n",
       "      <td>-1.410240</td>\n",
       "      <td>-3.161313</td>\n",
       "    </tr>\n",
       "    <tr>\n",
       "      <th>219</th>\n",
       "      <td>1.595100</td>\n",
       "      <td>-0.071237</td>\n",
       "      <td>-0.396602</td>\n",
       "    </tr>\n",
       "    <tr>\n",
       "      <th>337</th>\n",
       "      <td>1.644598</td>\n",
       "      <td>0.472659</td>\n",
       "      <td>0.447629</td>\n",
       "    </tr>\n",
       "    <tr>\n",
       "      <th>363</th>\n",
       "      <td>-0.194140</td>\n",
       "      <td>-0.502176</td>\n",
       "      <td>0.525082</td>\n",
       "    </tr>\n",
       "    <tr>\n",
       "      <th>44</th>\n",
       "      <td>0.827674</td>\n",
       "      <td>-0.603119</td>\n",
       "      <td>1.063866</td>\n",
       "    </tr>\n",
       "  </tbody>\n",
       "</table>\n",
       "</div>"
      ],
      "text/plain": [
       "     accelerationX  accelerationY  accelerationZ\n",
       "657       2.260148      -1.410240      -3.161313\n",
       "219       1.595100      -0.071237      -0.396602\n",
       "337       1.644598       0.472659       0.447629\n",
       "363      -0.194140      -0.502176       0.525082\n",
       "44        0.827674      -0.603119       1.063866"
      ]
     },
     "execution_count": 11,
     "metadata": {},
     "output_type": "execute_result"
    }
   ],
   "source": [
    "# normalize data\n",
    "data = (data - data.mean()) / data.std() \n",
    "data.sample(5)"
   ]
  },
  {
   "cell_type": "code",
   "execution_count": 12,
   "id": "4f8ccabc-58af-4b4f-8efe-9dfb81111418",
   "metadata": {
    "tags": []
   },
   "outputs": [
    {
     "name": "stdout",
     "output_type": "stream",
     "text": [
      "[[[-1.2386366 ]\n",
      "  [ 2.13942496]\n",
      "  [-1.0925436 ]]\n",
      "\n",
      " [[ 0.953395  ]\n",
      "  [ 3.02557342]\n",
      "  [-0.81866035]]\n",
      "\n",
      " [[-0.1999426 ]\n",
      "  [-0.49619956]\n",
      "  [ 0.52519592]]\n",
      "\n",
      " ...\n",
      "\n",
      " [[-0.19827218]\n",
      "  [-0.49475062]\n",
      "  [ 0.52530962]]\n",
      "\n",
      " [[-0.19739301]\n",
      "  [-0.50326315]\n",
      "  [ 0.52412713]]\n",
      "\n",
      " [[-0.1933928 ]\n",
      "  [-0.49601845]\n",
      "  [ 0.52580991]]]\n"
     ]
    }
   ],
   "source": [
    "# Reshape data to 3D array\n",
    "data = data.values.reshape((-1, 3, 1))\n",
    "print(data)"
   ]
  },
  {
   "cell_type": "code",
   "execution_count": 13,
   "id": "f565db7a-c51f-444e-b871-f44f3dcac875",
   "metadata": {
    "tags": []
   },
   "outputs": [],
   "source": [
    "# Convert labels to binary\n",
    "labels = np.where(labels==\"moving\", 1, 0)"
   ]
  },
  {
   "cell_type": "code",
   "execution_count": 14,
   "id": "81f53eb8-5254-41fd-a447-fab50a2b773c",
   "metadata": {
    "tags": []
   },
   "outputs": [],
   "source": [
    "# Split data into train and test sets\n",
    "split = int(len(data) * 0.8)\n",
    "x_train = data[:split]\n",
    "y_train = labels[:split]\n",
    "x_test = data[split:]\n",
    "y_test = labels[split:]"
   ]
  },
  {
   "cell_type": "code",
   "execution_count": 15,
   "id": "5143e4ef-6084-4f4f-b305-87adb9e18736",
   "metadata": {
    "tags": []
   },
   "outputs": [],
   "source": [
    "# Define the model\n",
    "model = tf.keras.Sequential([\n",
    "    tf.keras.layers.Input(shape=(3, 1)),\n",
    "    tf.keras.layers.Conv1D(32, 3, activation='relu', padding='same'),\n",
    "    tf.keras.layers.Reshape((3, 32, 1)),\n",
    "    tf.keras.layers.MaxPooling2D((2, 1)),\n",
    "    tf.keras.layers.Flatten(),\n",
    "    tf.keras.layers.Dense(128, activation='relu'),\n",
    "    tf.keras.layers.Dropout(0.5),\n",
    "    tf.keras.layers.Dense(1, activation='sigmoid')\n",
    "])"
   ]
  },
  {
   "cell_type": "code",
   "execution_count": 16,
   "id": "03f4b059-3526-4228-b622-69c70a1c5981",
   "metadata": {
    "tags": []
   },
   "outputs": [],
   "source": [
    "# Compile the model\n",
    "model.compile(optimizer='adam',\n",
    "              loss='binary_crossentropy',\n",
    "              metrics=['accuracy'])"
   ]
  },
  {
   "cell_type": "code",
   "execution_count": 17,
   "id": "f130e406-b034-423f-861b-5fd2851f5a94",
   "metadata": {
    "tags": []
   },
   "outputs": [
    {
     "name": "stdout",
     "output_type": "stream",
     "text": [
      "Epoch 1/30\n",
      "10/10 [==============================] - 1s 26ms/step - loss: 0.6745 - accuracy: 0.5950 - val_loss: 0.6214 - val_accuracy: 0.5302\n",
      "Epoch 2/30\n",
      "10/10 [==============================] - 0s 8ms/step - loss: 0.5980 - accuracy: 0.6992 - val_loss: 0.5602 - val_accuracy: 0.9866\n",
      "Epoch 3/30\n",
      "10/10 [==============================] - 0s 7ms/step - loss: 0.5440 - accuracy: 0.8571 - val_loss: 0.5042 - val_accuracy: 0.9664\n",
      "Epoch 4/30\n",
      "10/10 [==============================] - 0s 5ms/step - loss: 0.4920 - accuracy: 0.9361 - val_loss: 0.4511 - val_accuracy: 0.9396\n",
      "Epoch 5/30\n",
      "10/10 [==============================] - 0s 7ms/step - loss: 0.4422 - accuracy: 0.9227 - val_loss: 0.4021 - val_accuracy: 0.9060\n",
      "Epoch 6/30\n",
      "10/10 [==============================] - 0s 6ms/step - loss: 0.3971 - accuracy: 0.9160 - val_loss: 0.3584 - val_accuracy: 0.8993\n",
      "Epoch 7/30\n",
      "10/10 [==============================] - 0s 6ms/step - loss: 0.3575 - accuracy: 0.9126 - val_loss: 0.3214 - val_accuracy: 0.9060\n",
      "Epoch 8/30\n",
      "10/10 [==============================] - 0s 5ms/step - loss: 0.3203 - accuracy: 0.9160 - val_loss: 0.2892 - val_accuracy: 0.9060\n",
      "Epoch 9/30\n",
      "10/10 [==============================] - 0s 8ms/step - loss: 0.2940 - accuracy: 0.9176 - val_loss: 0.2613 - val_accuracy: 0.9128\n",
      "Epoch 10/30\n",
      "10/10 [==============================] - 0s 6ms/step - loss: 0.2685 - accuracy: 0.9210 - val_loss: 0.2361 - val_accuracy: 0.9262\n",
      "Epoch 11/30\n",
      "10/10 [==============================] - 0s 5ms/step - loss: 0.2459 - accuracy: 0.9294 - val_loss: 0.2134 - val_accuracy: 0.9262\n",
      "Epoch 12/30\n",
      "10/10 [==============================] - 0s 5ms/step - loss: 0.2275 - accuracy: 0.9412 - val_loss: 0.1936 - val_accuracy: 0.9463\n",
      "Epoch 13/30\n",
      "10/10 [==============================] - 0s 5ms/step - loss: 0.2136 - accuracy: 0.9328 - val_loss: 0.1750 - val_accuracy: 0.9597\n",
      "Epoch 14/30\n",
      "10/10 [==============================] - 0s 5ms/step - loss: 0.2015 - accuracy: 0.9412 - val_loss: 0.1593 - val_accuracy: 0.9664\n",
      "Epoch 15/30\n",
      "10/10 [==============================] - 0s 5ms/step - loss: 0.1894 - accuracy: 0.9445 - val_loss: 0.1458 - val_accuracy: 0.9732\n",
      "Epoch 16/30\n",
      "10/10 [==============================] - 0s 5ms/step - loss: 0.1782 - accuracy: 0.9529 - val_loss: 0.1352 - val_accuracy: 0.9732\n",
      "Epoch 17/30\n",
      "10/10 [==============================] - 0s 7ms/step - loss: 0.1754 - accuracy: 0.9479 - val_loss: 0.1257 - val_accuracy: 0.9799\n",
      "Epoch 18/30\n",
      "10/10 [==============================] - 0s 7ms/step - loss: 0.1657 - accuracy: 0.9546 - val_loss: 0.1189 - val_accuracy: 0.9799\n",
      "Epoch 19/30\n",
      "10/10 [==============================] - 0s 7ms/step - loss: 0.1558 - accuracy: 0.9529 - val_loss: 0.1116 - val_accuracy: 0.9799\n",
      "Epoch 20/30\n",
      "10/10 [==============================] - 0s 5ms/step - loss: 0.1518 - accuracy: 0.9546 - val_loss: 0.1064 - val_accuracy: 0.9799\n",
      "Epoch 21/30\n",
      "10/10 [==============================] - 0s 7ms/step - loss: 0.1566 - accuracy: 0.9546 - val_loss: 0.1016 - val_accuracy: 0.9799\n",
      "Epoch 22/30\n",
      "10/10 [==============================] - 0s 7ms/step - loss: 0.1411 - accuracy: 0.9580 - val_loss: 0.0968 - val_accuracy: 0.9799\n",
      "Epoch 23/30\n",
      "10/10 [==============================] - 0s 5ms/step - loss: 0.1419 - accuracy: 0.9630 - val_loss: 0.0928 - val_accuracy: 0.9799\n",
      "Epoch 24/30\n",
      "10/10 [==============================] - 0s 5ms/step - loss: 0.1361 - accuracy: 0.9647 - val_loss: 0.0887 - val_accuracy: 0.9799\n",
      "Epoch 25/30\n",
      "10/10 [==============================] - 0s 5ms/step - loss: 0.1309 - accuracy: 0.9630 - val_loss: 0.0848 - val_accuracy: 0.9799\n",
      "Epoch 26/30\n",
      "10/10 [==============================] - 0s 6ms/step - loss: 0.1321 - accuracy: 0.9647 - val_loss: 0.0831 - val_accuracy: 0.9799\n",
      "Epoch 27/30\n",
      "10/10 [==============================] - 0s 5ms/step - loss: 0.1295 - accuracy: 0.9647 - val_loss: 0.0806 - val_accuracy: 0.9866\n",
      "Epoch 28/30\n",
      "10/10 [==============================] - 0s 5ms/step - loss: 0.1301 - accuracy: 0.9630 - val_loss: 0.0795 - val_accuracy: 0.9866\n",
      "Epoch 29/30\n",
      "10/10 [==============================] - 0s 5ms/step - loss: 0.1264 - accuracy: 0.9647 - val_loss: 0.0754 - val_accuracy: 0.9866\n",
      "Epoch 30/30\n",
      "10/10 [==============================] - 0s 5ms/step - loss: 0.1261 - accuracy: 0.9630 - val_loss: 0.0746 - val_accuracy: 0.9866\n"
     ]
    },
    {
     "data": {
      "text/plain": [
       "<keras.callbacks.History at 0x7f9015c39510>"
      ]
     },
     "execution_count": 17,
     "metadata": {},
     "output_type": "execute_result"
    }
   ],
   "source": [
    "# Train the model\n",
    "model.fit(x_train, y_train, validation_data=(x_test, y_test), epochs=30, batch_size=64)"
   ]
  },
  {
   "cell_type": "code",
   "execution_count": 18,
   "id": "1fe12d7c-b6bf-49dd-b133-18543a01d203",
   "metadata": {
    "tags": []
   },
   "outputs": [
    {
     "name": "stdout",
     "output_type": "stream",
     "text": [
      "5/5 [==============================] - 0s 2ms/step - loss: 0.0746 - accuracy: 0.9866\n",
      "Test accuracy: 0.9865771532058716\n"
     ]
    }
   ],
   "source": [
    "# Evaluate the model\n",
    "test_loss, test_acc = model.evaluate(x_test, y_test)\n",
    "print('Test accuracy:', test_acc)"
   ]
  },
  {
   "cell_type": "code",
   "execution_count": 19,
   "id": "6e6cae56-6637-4f60-87c7-783c06475f4a",
   "metadata": {
    "tags": []
   },
   "outputs": [
    {
     "name": "stdout",
     "output_type": "stream",
     "text": [
      "1/1 [==============================] - 0s 95ms/step\n"
     ]
    },
    {
     "data": {
      "text/plain": [
       "array([[0.9979492]], dtype=float32)"
      ]
     },
     "execution_count": 19,
     "metadata": {},
     "output_type": "execute_result"
    }
   ],
   "source": [
    "# Use the model to predict label for a single row of data\n",
    "single_row = np.array([[[0.070770263671875,0.7673492431640625,0.751739501953125]]]).reshape((1, 3, 1))\n",
    "#single_row = np.array([1.0,1.0,1.0]).reshape((1, 3, 1))\n",
    "prediction = model.predict(single_row)\n",
    "prediction "
   ]
  },
  {
   "cell_type": "code",
   "execution_count": 20,
   "id": "2dd6bf6a-9e4c-4ef0-9b50-9a57f58805f1",
   "metadata": {
    "tags": []
   },
   "outputs": [
    {
     "name": "stderr",
     "output_type": "stream",
     "text": [
      "WARNING:absl:Found untraced functions such as _jit_compiled_convolution_op, _update_step_xla while saving (showing 2 of 2). These functions will not be directly callable after loading.\n"
     ]
    },
    {
     "name": "stdout",
     "output_type": "stream",
     "text": [
      "INFO:tensorflow:Assets written to: ../model/cumulocity_classification_model/assets\n"
     ]
    },
    {
     "name": "stderr",
     "output_type": "stream",
     "text": [
      "INFO:tensorflow:Assets written to: ../model/cumulocity_classification_model/assets\n"
     ]
    },
    {
     "name": "stdout",
     "output_type": "stream",
     "text": [
      "\n",
      "Saved model:../model/cumulocity_classification_model\n"
     ]
    }
   ],
   "source": [
    "#MODEL_DIR = tempfile.gettempdir()\n",
    "version = 1\n",
    "#export_path = os.path.join(MODEL_DIR, str(version))\n",
    "#print('export_path = {}\\n'.format(export_path))\n",
    "\n",
    "export_path = '../model/cumulocity_classification_model'\n",
    "\n",
    "# Export the model as a SavedModel\n",
    "tf.saved_model.save(model, export_path)\n",
    "\n",
    "\n",
    "print('\\nSaved model:' + export_path)\n",
    "#!ls -l {export_path}"
   ]
  },
  {
   "cell_type": "code",
   "execution_count": 21,
   "id": "6e9cb511-2393-4ea0-b4c9-878c4ec4409c",
   "metadata": {
    "tags": []
   },
   "outputs": [],
   "source": [
    "#import glob\n",
    "#print(glob.glob(\"../model/cumulocity_classification_model_3/0000001/*\"))"
   ]
  },
  {
   "cell_type": "code",
   "execution_count": 22,
   "id": "6d1bdc52-aa02-477f-974a-b001b0bff781",
   "metadata": {},
   "outputs": [],
   "source": [
    "local_model_path = f\"{export_path}/model.onnx\"\n",
    "onnx_model, _ = tf2onnx.convert.from_keras(model, opset=13)\n",
    "onnx.save(onnx_model, local_model_path)"
   ]
  },
  {
   "cell_type": "code",
   "execution_count": 23,
   "id": "aae3695a-b5ca-4761-ad13-3c67fef689b3",
   "metadata": {
    "tags": []
   },
   "outputs": [],
   "source": [
    "#import glob\n",
    "#print(glob.glob(\"../model/cumulocity_classification_model_3/*\"))"
   ]
  },
  {
   "cell_type": "code",
   "execution_count": 29,
   "id": "74e74d28-d35b-41dc-80a1-80a28286508b",
   "metadata": {
    "tags": []
   },
   "outputs": [],
   "source": [
    "\n",
    "file_name = 'model/acceleration_model.onnx'\n",
    "S3_MODEL_PATH = f\"{S3_BCUKET}/{file_name}\"''\n",
    "\n",
    "s3 = s3fs.S3FileSystem(\n",
    "    anon=False,\n",
    "    use_ssl=True,\n",
    "    client_kwargs={\n",
    "        \"region_name\": 'eu-central-1',\n",
    "        \"verify\": True,\n",
    "    }\n",
    ")\n",
    "s3.put(local_model_path, S3_MODEL_PATH)\n",
    "\n"
   ]
  },
  {
   "cell_type": "code",
   "execution_count": 30,
   "id": "7d908986-d998-48c7-8b1b-55032d550468",
   "metadata": {
    "tags": []
   },
   "outputs": [
    {
     "data": {
      "text/plain": [
       "'mstoffel/mstoffel/t15264971/model/acceleration_model.onnx'"
      ]
     },
     "execution_count": 30,
     "metadata": {},
     "output_type": "execute_result"
    }
   ],
   "source": [
    "S3_MODEL_PATH"
   ]
  },
  {
   "cell_type": "code",
   "execution_count": 31,
   "id": "b97ebf55-b9b8-4f4a-a11a-fd5f0ebb74d7",
   "metadata": {
    "tags": []
   },
   "outputs": [
    {
     "data": {
      "text/plain": [
       "'../model/cumulocity_classification_model/model.onnx'"
      ]
     },
     "execution_count": 31,
     "metadata": {},
     "output_type": "execute_result"
    }
   ],
   "source": [
    "local_model_path"
   ]
  },
  {
   "cell_type": "code",
   "execution_count": null,
   "id": "14bfcfcd-d299-4327-b55d-31ba1b7f9e4b",
   "metadata": {},
   "outputs": [],
   "source": []
  }
 ],
 "metadata": {
  "availableInstances": [
   {
    "_defaultOrder": 0,
    "_isFastLaunch": true,
    "category": "General purpose",
    "gpuNum": 0,
    "hideHardwareSpecs": false,
    "memoryGiB": 4,
    "name": "ml.t3.medium",
    "vcpuNum": 2
   },
   {
    "_defaultOrder": 1,
    "_isFastLaunch": false,
    "category": "General purpose",
    "gpuNum": 0,
    "hideHardwareSpecs": false,
    "memoryGiB": 8,
    "name": "ml.t3.large",
    "vcpuNum": 2
   },
   {
    "_defaultOrder": 2,
    "_isFastLaunch": false,
    "category": "General purpose",
    "gpuNum": 0,
    "hideHardwareSpecs": false,
    "memoryGiB": 16,
    "name": "ml.t3.xlarge",
    "vcpuNum": 4
   },
   {
    "_defaultOrder": 3,
    "_isFastLaunch": false,
    "category": "General purpose",
    "gpuNum": 0,
    "hideHardwareSpecs": false,
    "memoryGiB": 32,
    "name": "ml.t3.2xlarge",
    "vcpuNum": 8
   },
   {
    "_defaultOrder": 4,
    "_isFastLaunch": true,
    "category": "General purpose",
    "gpuNum": 0,
    "hideHardwareSpecs": false,
    "memoryGiB": 8,
    "name": "ml.m5.large",
    "vcpuNum": 2
   },
   {
    "_defaultOrder": 5,
    "_isFastLaunch": false,
    "category": "General purpose",
    "gpuNum": 0,
    "hideHardwareSpecs": false,
    "memoryGiB": 16,
    "name": "ml.m5.xlarge",
    "vcpuNum": 4
   },
   {
    "_defaultOrder": 6,
    "_isFastLaunch": false,
    "category": "General purpose",
    "gpuNum": 0,
    "hideHardwareSpecs": false,
    "memoryGiB": 32,
    "name": "ml.m5.2xlarge",
    "vcpuNum": 8
   },
   {
    "_defaultOrder": 7,
    "_isFastLaunch": false,
    "category": "General purpose",
    "gpuNum": 0,
    "hideHardwareSpecs": false,
    "memoryGiB": 64,
    "name": "ml.m5.4xlarge",
    "vcpuNum": 16
   },
   {
    "_defaultOrder": 8,
    "_isFastLaunch": false,
    "category": "General purpose",
    "gpuNum": 0,
    "hideHardwareSpecs": false,
    "memoryGiB": 128,
    "name": "ml.m5.8xlarge",
    "vcpuNum": 32
   },
   {
    "_defaultOrder": 9,
    "_isFastLaunch": false,
    "category": "General purpose",
    "gpuNum": 0,
    "hideHardwareSpecs": false,
    "memoryGiB": 192,
    "name": "ml.m5.12xlarge",
    "vcpuNum": 48
   },
   {
    "_defaultOrder": 10,
    "_isFastLaunch": false,
    "category": "General purpose",
    "gpuNum": 0,
    "hideHardwareSpecs": false,
    "memoryGiB": 256,
    "name": "ml.m5.16xlarge",
    "vcpuNum": 64
   },
   {
    "_defaultOrder": 11,
    "_isFastLaunch": false,
    "category": "General purpose",
    "gpuNum": 0,
    "hideHardwareSpecs": false,
    "memoryGiB": 384,
    "name": "ml.m5.24xlarge",
    "vcpuNum": 96
   },
   {
    "_defaultOrder": 12,
    "_isFastLaunch": false,
    "category": "General purpose",
    "gpuNum": 0,
    "hideHardwareSpecs": false,
    "memoryGiB": 8,
    "name": "ml.m5d.large",
    "vcpuNum": 2
   },
   {
    "_defaultOrder": 13,
    "_isFastLaunch": false,
    "category": "General purpose",
    "gpuNum": 0,
    "hideHardwareSpecs": false,
    "memoryGiB": 16,
    "name": "ml.m5d.xlarge",
    "vcpuNum": 4
   },
   {
    "_defaultOrder": 14,
    "_isFastLaunch": false,
    "category": "General purpose",
    "gpuNum": 0,
    "hideHardwareSpecs": false,
    "memoryGiB": 32,
    "name": "ml.m5d.2xlarge",
    "vcpuNum": 8
   },
   {
    "_defaultOrder": 15,
    "_isFastLaunch": false,
    "category": "General purpose",
    "gpuNum": 0,
    "hideHardwareSpecs": false,
    "memoryGiB": 64,
    "name": "ml.m5d.4xlarge",
    "vcpuNum": 16
   },
   {
    "_defaultOrder": 16,
    "_isFastLaunch": false,
    "category": "General purpose",
    "gpuNum": 0,
    "hideHardwareSpecs": false,
    "memoryGiB": 128,
    "name": "ml.m5d.8xlarge",
    "vcpuNum": 32
   },
   {
    "_defaultOrder": 17,
    "_isFastLaunch": false,
    "category": "General purpose",
    "gpuNum": 0,
    "hideHardwareSpecs": false,
    "memoryGiB": 192,
    "name": "ml.m5d.12xlarge",
    "vcpuNum": 48
   },
   {
    "_defaultOrder": 18,
    "_isFastLaunch": false,
    "category": "General purpose",
    "gpuNum": 0,
    "hideHardwareSpecs": false,
    "memoryGiB": 256,
    "name": "ml.m5d.16xlarge",
    "vcpuNum": 64
   },
   {
    "_defaultOrder": 19,
    "_isFastLaunch": false,
    "category": "General purpose",
    "gpuNum": 0,
    "hideHardwareSpecs": false,
    "memoryGiB": 384,
    "name": "ml.m5d.24xlarge",
    "vcpuNum": 96
   },
   {
    "_defaultOrder": 20,
    "_isFastLaunch": false,
    "category": "General purpose",
    "gpuNum": 0,
    "hideHardwareSpecs": true,
    "memoryGiB": 0,
    "name": "ml.geospatial.interactive",
    "supportedImageNames": [
     "sagemaker-geospatial-v1-0"
    ],
    "vcpuNum": 0
   },
   {
    "_defaultOrder": 21,
    "_isFastLaunch": true,
    "category": "Compute optimized",
    "gpuNum": 0,
    "hideHardwareSpecs": false,
    "memoryGiB": 4,
    "name": "ml.c5.large",
    "vcpuNum": 2
   },
   {
    "_defaultOrder": 22,
    "_isFastLaunch": false,
    "category": "Compute optimized",
    "gpuNum": 0,
    "hideHardwareSpecs": false,
    "memoryGiB": 8,
    "name": "ml.c5.xlarge",
    "vcpuNum": 4
   },
   {
    "_defaultOrder": 23,
    "_isFastLaunch": false,
    "category": "Compute optimized",
    "gpuNum": 0,
    "hideHardwareSpecs": false,
    "memoryGiB": 16,
    "name": "ml.c5.2xlarge",
    "vcpuNum": 8
   },
   {
    "_defaultOrder": 24,
    "_isFastLaunch": false,
    "category": "Compute optimized",
    "gpuNum": 0,
    "hideHardwareSpecs": false,
    "memoryGiB": 32,
    "name": "ml.c5.4xlarge",
    "vcpuNum": 16
   },
   {
    "_defaultOrder": 25,
    "_isFastLaunch": false,
    "category": "Compute optimized",
    "gpuNum": 0,
    "hideHardwareSpecs": false,
    "memoryGiB": 72,
    "name": "ml.c5.9xlarge",
    "vcpuNum": 36
   },
   {
    "_defaultOrder": 26,
    "_isFastLaunch": false,
    "category": "Compute optimized",
    "gpuNum": 0,
    "hideHardwareSpecs": false,
    "memoryGiB": 96,
    "name": "ml.c5.12xlarge",
    "vcpuNum": 48
   },
   {
    "_defaultOrder": 27,
    "_isFastLaunch": false,
    "category": "Compute optimized",
    "gpuNum": 0,
    "hideHardwareSpecs": false,
    "memoryGiB": 144,
    "name": "ml.c5.18xlarge",
    "vcpuNum": 72
   },
   {
    "_defaultOrder": 28,
    "_isFastLaunch": false,
    "category": "Compute optimized",
    "gpuNum": 0,
    "hideHardwareSpecs": false,
    "memoryGiB": 192,
    "name": "ml.c5.24xlarge",
    "vcpuNum": 96
   },
   {
    "_defaultOrder": 29,
    "_isFastLaunch": true,
    "category": "Accelerated computing",
    "gpuNum": 1,
    "hideHardwareSpecs": false,
    "memoryGiB": 16,
    "name": "ml.g4dn.xlarge",
    "vcpuNum": 4
   },
   {
    "_defaultOrder": 30,
    "_isFastLaunch": false,
    "category": "Accelerated computing",
    "gpuNum": 1,
    "hideHardwareSpecs": false,
    "memoryGiB": 32,
    "name": "ml.g4dn.2xlarge",
    "vcpuNum": 8
   },
   {
    "_defaultOrder": 31,
    "_isFastLaunch": false,
    "category": "Accelerated computing",
    "gpuNum": 1,
    "hideHardwareSpecs": false,
    "memoryGiB": 64,
    "name": "ml.g4dn.4xlarge",
    "vcpuNum": 16
   },
   {
    "_defaultOrder": 32,
    "_isFastLaunch": false,
    "category": "Accelerated computing",
    "gpuNum": 1,
    "hideHardwareSpecs": false,
    "memoryGiB": 128,
    "name": "ml.g4dn.8xlarge",
    "vcpuNum": 32
   },
   {
    "_defaultOrder": 33,
    "_isFastLaunch": false,
    "category": "Accelerated computing",
    "gpuNum": 4,
    "hideHardwareSpecs": false,
    "memoryGiB": 192,
    "name": "ml.g4dn.12xlarge",
    "vcpuNum": 48
   },
   {
    "_defaultOrder": 34,
    "_isFastLaunch": false,
    "category": "Accelerated computing",
    "gpuNum": 1,
    "hideHardwareSpecs": false,
    "memoryGiB": 256,
    "name": "ml.g4dn.16xlarge",
    "vcpuNum": 64
   },
   {
    "_defaultOrder": 35,
    "_isFastLaunch": false,
    "category": "Accelerated computing",
    "gpuNum": 1,
    "hideHardwareSpecs": false,
    "memoryGiB": 61,
    "name": "ml.p3.2xlarge",
    "vcpuNum": 8
   },
   {
    "_defaultOrder": 36,
    "_isFastLaunch": false,
    "category": "Accelerated computing",
    "gpuNum": 4,
    "hideHardwareSpecs": false,
    "memoryGiB": 244,
    "name": "ml.p3.8xlarge",
    "vcpuNum": 32
   },
   {
    "_defaultOrder": 37,
    "_isFastLaunch": false,
    "category": "Accelerated computing",
    "gpuNum": 8,
    "hideHardwareSpecs": false,
    "memoryGiB": 488,
    "name": "ml.p3.16xlarge",
    "vcpuNum": 64
   },
   {
    "_defaultOrder": 38,
    "_isFastLaunch": false,
    "category": "Accelerated computing",
    "gpuNum": 8,
    "hideHardwareSpecs": false,
    "memoryGiB": 768,
    "name": "ml.p3dn.24xlarge",
    "vcpuNum": 96
   },
   {
    "_defaultOrder": 39,
    "_isFastLaunch": false,
    "category": "Memory Optimized",
    "gpuNum": 0,
    "hideHardwareSpecs": false,
    "memoryGiB": 16,
    "name": "ml.r5.large",
    "vcpuNum": 2
   },
   {
    "_defaultOrder": 40,
    "_isFastLaunch": false,
    "category": "Memory Optimized",
    "gpuNum": 0,
    "hideHardwareSpecs": false,
    "memoryGiB": 32,
    "name": "ml.r5.xlarge",
    "vcpuNum": 4
   },
   {
    "_defaultOrder": 41,
    "_isFastLaunch": false,
    "category": "Memory Optimized",
    "gpuNum": 0,
    "hideHardwareSpecs": false,
    "memoryGiB": 64,
    "name": "ml.r5.2xlarge",
    "vcpuNum": 8
   },
   {
    "_defaultOrder": 42,
    "_isFastLaunch": false,
    "category": "Memory Optimized",
    "gpuNum": 0,
    "hideHardwareSpecs": false,
    "memoryGiB": 128,
    "name": "ml.r5.4xlarge",
    "vcpuNum": 16
   },
   {
    "_defaultOrder": 43,
    "_isFastLaunch": false,
    "category": "Memory Optimized",
    "gpuNum": 0,
    "hideHardwareSpecs": false,
    "memoryGiB": 256,
    "name": "ml.r5.8xlarge",
    "vcpuNum": 32
   },
   {
    "_defaultOrder": 44,
    "_isFastLaunch": false,
    "category": "Memory Optimized",
    "gpuNum": 0,
    "hideHardwareSpecs": false,
    "memoryGiB": 384,
    "name": "ml.r5.12xlarge",
    "vcpuNum": 48
   },
   {
    "_defaultOrder": 45,
    "_isFastLaunch": false,
    "category": "Memory Optimized",
    "gpuNum": 0,
    "hideHardwareSpecs": false,
    "memoryGiB": 512,
    "name": "ml.r5.16xlarge",
    "vcpuNum": 64
   },
   {
    "_defaultOrder": 46,
    "_isFastLaunch": false,
    "category": "Memory Optimized",
    "gpuNum": 0,
    "hideHardwareSpecs": false,
    "memoryGiB": 768,
    "name": "ml.r5.24xlarge",
    "vcpuNum": 96
   },
   {
    "_defaultOrder": 47,
    "_isFastLaunch": false,
    "category": "Accelerated computing",
    "gpuNum": 1,
    "hideHardwareSpecs": false,
    "memoryGiB": 16,
    "name": "ml.g5.xlarge",
    "vcpuNum": 4
   },
   {
    "_defaultOrder": 48,
    "_isFastLaunch": false,
    "category": "Accelerated computing",
    "gpuNum": 1,
    "hideHardwareSpecs": false,
    "memoryGiB": 32,
    "name": "ml.g5.2xlarge",
    "vcpuNum": 8
   },
   {
    "_defaultOrder": 49,
    "_isFastLaunch": false,
    "category": "Accelerated computing",
    "gpuNum": 1,
    "hideHardwareSpecs": false,
    "memoryGiB": 64,
    "name": "ml.g5.4xlarge",
    "vcpuNum": 16
   },
   {
    "_defaultOrder": 50,
    "_isFastLaunch": false,
    "category": "Accelerated computing",
    "gpuNum": 1,
    "hideHardwareSpecs": false,
    "memoryGiB": 128,
    "name": "ml.g5.8xlarge",
    "vcpuNum": 32
   },
   {
    "_defaultOrder": 51,
    "_isFastLaunch": false,
    "category": "Accelerated computing",
    "gpuNum": 1,
    "hideHardwareSpecs": false,
    "memoryGiB": 256,
    "name": "ml.g5.16xlarge",
    "vcpuNum": 64
   },
   {
    "_defaultOrder": 52,
    "_isFastLaunch": false,
    "category": "Accelerated computing",
    "gpuNum": 4,
    "hideHardwareSpecs": false,
    "memoryGiB": 192,
    "name": "ml.g5.12xlarge",
    "vcpuNum": 48
   },
   {
    "_defaultOrder": 53,
    "_isFastLaunch": false,
    "category": "Accelerated computing",
    "gpuNum": 4,
    "hideHardwareSpecs": false,
    "memoryGiB": 384,
    "name": "ml.g5.24xlarge",
    "vcpuNum": 96
   },
   {
    "_defaultOrder": 54,
    "_isFastLaunch": false,
    "category": "Accelerated computing",
    "gpuNum": 8,
    "hideHardwareSpecs": false,
    "memoryGiB": 768,
    "name": "ml.g5.48xlarge",
    "vcpuNum": 192
   },
   {
    "_defaultOrder": 55,
    "_isFastLaunch": false,
    "category": "Accelerated computing",
    "gpuNum": 8,
    "hideHardwareSpecs": false,
    "memoryGiB": 1152,
    "name": "ml.p4d.24xlarge",
    "vcpuNum": 96
   },
   {
    "_defaultOrder": 56,
    "_isFastLaunch": false,
    "category": "Accelerated computing",
    "gpuNum": 8,
    "hideHardwareSpecs": false,
    "memoryGiB": 1152,
    "name": "ml.p4de.24xlarge",
    "vcpuNum": 96
   }
  ],
  "instance_type": "ml.t3.medium",
  "kernelspec": {
   "display_name": "Python 3 (Data Science)",
   "language": "python",
   "name": "python3__SAGEMAKER_INTERNAL__arn:aws:sagemaker:eu-central-1:936697816551:image/datascience-1.0"
  },
  "language_info": {
   "codemirror_mode": {
    "name": "ipython",
    "version": 3
   },
   "file_extension": ".py",
   "mimetype": "text/x-python",
   "name": "python",
   "nbconvert_exporter": "python",
   "pygments_lexer": "ipython3",
   "version": "3.7.10"
  }
 },
 "nbformat": 4,
 "nbformat_minor": 5
}
