{
 "cells": [
  {
   "cell_type": "code",
   "execution_count": null,
   "id": "eff869aa-8b98-454d-9ea8-24bce852f067",
   "metadata": {
    "tags": []
   },
   "outputs": [
    {
     "name": "stdout",
     "output_type": "stream",
     "text": [
      "Requirement already satisfied: tensorflow in /opt/conda/lib/python3.7/site-packages (2.11.0)\n",
      "Requirement already satisfied: tf2onnx in /opt/conda/lib/python3.7/site-packages (1.14.0)\n",
      "Requirement already satisfied: absl-py>=1.0.0 in /opt/conda/lib/python3.7/site-packages (from tensorflow) (1.4.0)\n",
      "Requirement already satisfied: astunparse>=1.6.0 in /opt/conda/lib/python3.7/site-packages (from tensorflow) (1.6.3)\n",
      "Requirement already satisfied: flatbuffers>=2.0 in /opt/conda/lib/python3.7/site-packages (from tensorflow) (2.0.7)\n",
      "Requirement already satisfied: gast<=0.4.0,>=0.2.1 in /opt/conda/lib/python3.7/site-packages (from tensorflow) (0.4.0)\n",
      "Requirement already satisfied: google-pasta>=0.1.1 in /opt/conda/lib/python3.7/site-packages (from tensorflow) (0.2.0)\n",
      "Requirement already satisfied: grpcio<2.0,>=1.24.3 in /opt/conda/lib/python3.7/site-packages (from tensorflow) (1.56.0)\n",
      "Requirement already satisfied: h5py>=2.9.0 in /opt/conda/lib/python3.7/site-packages (from tensorflow) (2.10.0)\n",
      "Requirement already satisfied: keras<2.12,>=2.11.0 in /opt/conda/lib/python3.7/site-packages (from tensorflow) (2.11.0)\n",
      "Requirement already satisfied: libclang>=13.0.0 in /opt/conda/lib/python3.7/site-packages (from tensorflow) (16.0.0)\n",
      "Requirement already satisfied: numpy>=1.20 in /opt/conda/lib/python3.7/site-packages (from tensorflow) (1.21.6)\n",
      "Requirement already satisfied: opt-einsum>=2.3.2 in /opt/conda/lib/python3.7/site-packages (from tensorflow) (3.3.0)\n",
      "Requirement already satisfied: packaging in /opt/conda/lib/python3.7/site-packages (from tensorflow) (20.1)\n",
      "Requirement already satisfied: protobuf<3.20,>=3.9.2 in /opt/conda/lib/python3.7/site-packages (from tensorflow) (3.19.6)\n",
      "Requirement already satisfied: setuptools in /opt/conda/lib/python3.7/site-packages (from tensorflow) (65.5.1)\n",
      "Requirement already satisfied: six>=1.12.0 in /opt/conda/lib/python3.7/site-packages (from tensorflow) (1.14.0)\n",
      "Requirement already satisfied: tensorboard<2.12,>=2.11 in /opt/conda/lib/python3.7/site-packages (from tensorflow) (2.11.2)\n",
      "Requirement already satisfied: tensorflow-estimator<2.12,>=2.11.0 in /opt/conda/lib/python3.7/site-packages (from tensorflow) (2.11.0)\n",
      "Requirement already satisfied: termcolor>=1.1.0 in /opt/conda/lib/python3.7/site-packages (from tensorflow) (2.3.0)\n",
      "Requirement already satisfied: typing-extensions>=3.6.6 in /opt/conda/lib/python3.7/site-packages (from tensorflow) (4.6.3)\n",
      "Requirement already satisfied: wrapt>=1.11.0 in /opt/conda/lib/python3.7/site-packages (from tensorflow) (1.11.2)\n",
      "Requirement already satisfied: tensorflow-io-gcs-filesystem>=0.23.1 in /opt/conda/lib/python3.7/site-packages (from tensorflow) (0.32.0)\n",
      "Requirement already satisfied: onnx>=1.4.1 in /opt/conda/lib/python3.7/site-packages (from tf2onnx) (1.12.0)\n",
      "Requirement already satisfied: requests in /opt/conda/lib/python3.7/site-packages (from tf2onnx) (2.31.0)\n",
      "Requirement already satisfied: wheel<1.0,>=0.23.0 in /opt/conda/lib/python3.7/site-packages (from astunparse>=1.6.0->tensorflow) (0.40.0)\n",
      "Requirement already satisfied: google-auth<3,>=1.6.3 in /opt/conda/lib/python3.7/site-packages (from tensorboard<2.12,>=2.11->tensorflow) (2.21.0)\n",
      "Requirement already satisfied: google-auth-oauthlib<0.5,>=0.4.1 in /opt/conda/lib/python3.7/site-packages (from tensorboard<2.12,>=2.11->tensorflow) (0.4.6)\n",
      "Requirement already satisfied: markdown>=2.6.8 in /opt/conda/lib/python3.7/site-packages (from tensorboard<2.12,>=2.11->tensorflow) (3.4.3)\n",
      "Requirement already satisfied: tensorboard-data-server<0.7.0,>=0.6.0 in /opt/conda/lib/python3.7/site-packages (from tensorboard<2.12,>=2.11->tensorflow) (0.6.1)\n",
      "Requirement already satisfied: tensorboard-plugin-wit>=1.6.0 in /opt/conda/lib/python3.7/site-packages (from tensorboard<2.12,>=2.11->tensorflow) (1.8.1)\n",
      "Requirement already satisfied: werkzeug>=1.0.1 in /opt/conda/lib/python3.7/site-packages (from tensorboard<2.12,>=2.11->tensorflow) (2.2.3)\n",
      "Requirement already satisfied: charset-normalizer<4,>=2 in /opt/conda/lib/python3.7/site-packages (from requests->tf2onnx) (2.0.4)\n",
      "Requirement already satisfied: idna<4,>=2.5 in /opt/conda/lib/python3.7/site-packages (from requests->tf2onnx) (2.8)\n",
      "Requirement already satisfied: urllib3<3,>=1.21.1 in /opt/conda/lib/python3.7/site-packages (from requests->tf2onnx) (1.26.16)\n",
      "Requirement already satisfied: certifi>=2017.4.17 in /opt/conda/lib/python3.7/site-packages (from requests->tf2onnx) (2023.5.7)\n",
      "Requirement already satisfied: pyparsing>=2.0.2 in /opt/conda/lib/python3.7/site-packages (from packaging->tensorflow) (2.4.6)\n",
      "Requirement already satisfied: cachetools<6.0,>=2.0.0 in /opt/conda/lib/python3.7/site-packages (from google-auth<3,>=1.6.3->tensorboard<2.12,>=2.11->tensorflow) (5.3.1)\n",
      "Requirement already satisfied: pyasn1-modules>=0.2.1 in /opt/conda/lib/python3.7/site-packages (from google-auth<3,>=1.6.3->tensorboard<2.12,>=2.11->tensorflow) (0.3.0)\n",
      "Requirement already satisfied: rsa<5,>=3.1.4 in /opt/conda/lib/python3.7/site-packages (from google-auth<3,>=1.6.3->tensorboard<2.12,>=2.11->tensorflow) (4.9)\n",
      "Requirement already satisfied: requests-oauthlib>=0.7.0 in /opt/conda/lib/python3.7/site-packages (from google-auth-oauthlib<0.5,>=0.4.1->tensorboard<2.12,>=2.11->tensorflow) (1.3.1)\n",
      "Requirement already satisfied: importlib-metadata>=4.4 in /opt/conda/lib/python3.7/site-packages (from markdown>=2.6.8->tensorboard<2.12,>=2.11->tensorflow) (6.6.0)\n",
      "Requirement already satisfied: MarkupSafe>=2.1.1 in /opt/conda/lib/python3.7/site-packages (from werkzeug>=1.0.1->tensorboard<2.12,>=2.11->tensorflow) (2.1.3)\n",
      "Requirement already satisfied: zipp>=0.5 in /opt/conda/lib/python3.7/site-packages (from importlib-metadata>=4.4->markdown>=2.6.8->tensorboard<2.12,>=2.11->tensorflow) (2.2.0)\n",
      "Requirement already satisfied: pyasn1<0.6.0,>=0.4.6 in /opt/conda/lib/python3.7/site-packages (from pyasn1-modules>=0.2.1->google-auth<3,>=1.6.3->tensorboard<2.12,>=2.11->tensorflow) (0.5.0)\n",
      "Requirement already satisfied: oauthlib>=3.0.0 in /opt/conda/lib/python3.7/site-packages (from requests-oauthlib>=0.7.0->google-auth-oauthlib<0.5,>=0.4.1->tensorboard<2.12,>=2.11->tensorflow) (3.2.2)\n",
      "\u001b[33mWARNING: Running pip as the 'root' user can result in broken permissions and conflicting behaviour with the system package manager. It is recommended to use a virtual environment instead: https://pip.pypa.io/warnings/venv\u001b[0m\u001b[33m\n",
      "\u001b[0m"
     ]
    }
   ],
   "source": [
    "# install required moduls\n",
    "!pip install tensorflow tf2onnx"
   ]
  },
  {
   "cell_type": "code",
   "execution_count": 30,
   "id": "a575afcd-feda-4393-ab31-5bb02bfdaa73",
   "metadata": {
    "tags": []
   },
   "outputs": [],
   "source": [
    "import numpy as np\n",
    "import pandas as pd\n",
    "import os\n",
    "import s3fs\n",
    "import pyarrow as pa\n",
    "import pyarrow.parquet as pq\n",
    "import tensorflow as tf\n",
    "import tf2onnx\n",
    "import onnx\n",
    "import boto3\n"
   ]
  },
  {
   "cell_type": "code",
   "execution_count": null,
   "id": "6a57cfab-0c0e-4bb1-a55c-c8c6843280b3",
   "metadata": {
    "tags": []
   },
   "outputs": [],
   "source": [
    "bucket = 'mstoffel'\n",
    "subfolder = 'mstoffel/t15264971/measurements_c8y_Acceleration/'"
   ]
  },
  {
   "cell_type": "code",
   "execution_count": 31,
   "id": "529ac5ff-26f9-410a-b2d0-0ee5a56a5768",
   "metadata": {
    "tags": []
   },
   "outputs": [
    {
     "data": {
      "text/plain": [
       "[s3.ObjectSummary(bucket_name='mstoffel', key='mstoffel/t15264971/measurements_c8y_Acceleration/incremental_1687942475/0_2023/0_06/0_28/0_0_0.parquet')]"
      ]
     },
     "execution_count": 31,
     "metadata": {},
     "output_type": "execute_result"
    }
   ],
   "source": [
    "##\n",
    "# something along the line ...\n",
    "##\n",
    "s3 = boto3.resource('s3')\n",
    "my_bucket = s3.Bucket(bucket)\n",
    "parquet_files = [];\n",
    "for obj in my_bucket.objects.filter(Prefix=subfolder):\n",
    "     if obj.key.endswith('.parquet'):\n",
    "        parquet_files.append(obj)\n",
    "        \n",
    "parquet_files "
   ]
  },
  {
   "cell_type": "code",
   "execution_count": 33,
   "id": "54816373-79f1-4799-98e9-eb96e6b86155",
   "metadata": {
    "tags": []
   },
   "outputs": [
    {
     "data": {
      "text/plain": [
       "<pyarrow.parquet.core._ParquetDatasetV2 at 0x7f4638426cd0>"
      ]
     },
     "execution_count": 33,
     "metadata": {},
     "output_type": "execute_result"
    }
   ],
   "source": [
    "##\n",
    "# only use the 1. parquet file\n",
    "##\n",
    "parquet_file_1 = parquet_files[0]\n",
    "\n",
    "s3 = s3fs.S3FileSystem(\n",
    "    anon=False,\n",
    "    use_ssl=True,\n",
    "    client_kwargs={\n",
    "        \"region_name\": 'eu-central-1',\n",
    "        \"verify\": True,\n",
    "    }\n",
    ")\n",
    "\n",
    "\n",
    "\n",
    "pf = pq.ParquetDataset('s3://' + bucket + '/' + parquet_file_1.key, filesystem=s3)\n",
    "pf\n"
   ]
  },
  {
   "cell_type": "code",
   "execution_count": 34,
   "id": "4b3940de-a098-4baa-86a9-fafe6a9c71d2",
   "metadata": {
    "tags": []
   },
   "outputs": [
    {
     "data": {
      "text/plain": [
       "id: string\n",
       "creationTime: timestamp[ms, tz=UTC]\n",
       "creationTimeOffset: int32\n",
       "creationTimeWithOffset: timestamp[ms, tz=UTC]\n",
       "YEAR: string\n",
       "MONTH: string\n",
       "DAY: string\n",
       "time: timestamp[ms, tz=UTC]\n",
       "timeOffset: int32\n",
       "timeWithOffset: timestamp[ms, tz=UTC]\n",
       "source: string\n",
       "type: string\n",
       "c8y_Acceleration.accelerationX.label: string\n",
       "c8y_Acceleration.accelerationX.value: double\n",
       "c8y_Acceleration.accelerationY.label: string\n",
       "c8y_Acceleration.accelerationY.value: double\n",
       "c8y_Acceleration.accelerationZ.label: string\n",
       "c8y_Acceleration.accelerationZ.value: double\n",
       "-- schema metadata --\n",
       "is.date.correct: 'true'\n",
       "dremio.arrow.schema.2.1: '{\n",
       "  \"fields\" : [ {\n",
       "    \"name\" : \"id\",\n",
       "    \"null' + 2759\n",
       "dremio.version: '19.11.2-202301280043390504-e5820c5a'"
      ]
     },
     "execution_count": 34,
     "metadata": {},
     "output_type": "execute_result"
    }
   ],
   "source": [
    "# show schema\n",
    "pf.schema"
   ]
  },
  {
   "cell_type": "code",
   "execution_count": 15,
   "id": "e7c17fba-4d24-462f-9c9d-cab7cf5b9652",
   "metadata": {
    "tags": []
   },
   "outputs": [
    {
     "data": {
      "text/html": [
       "<div>\n",
       "<style scoped>\n",
       "    .dataframe tbody tr th:only-of-type {\n",
       "        vertical-align: middle;\n",
       "    }\n",
       "\n",
       "    .dataframe tbody tr th {\n",
       "        vertical-align: top;\n",
       "    }\n",
       "\n",
       "    .dataframe thead th {\n",
       "        text-align: right;\n",
       "    }\n",
       "</style>\n",
       "<table border=\"1\" class=\"dataframe\">\n",
       "  <thead>\n",
       "    <tr style=\"text-align: right;\">\n",
       "      <th></th>\n",
       "      <th>id</th>\n",
       "      <th>creationTime</th>\n",
       "      <th>creationTimeOffset</th>\n",
       "      <th>creationTimeWithOffset</th>\n",
       "      <th>YEAR</th>\n",
       "      <th>MONTH</th>\n",
       "      <th>DAY</th>\n",
       "      <th>time</th>\n",
       "      <th>timeOffset</th>\n",
       "      <th>timeWithOffset</th>\n",
       "      <th>source</th>\n",
       "      <th>type</th>\n",
       "      <th>c8y_Acceleration.accelerationX.label</th>\n",
       "      <th>c8y_Acceleration.accelerationX.value</th>\n",
       "      <th>c8y_Acceleration.accelerationY.label</th>\n",
       "      <th>c8y_Acceleration.accelerationY.value</th>\n",
       "      <th>c8y_Acceleration.accelerationZ.label</th>\n",
       "      <th>c8y_Acceleration.accelerationZ.value</th>\n",
       "    </tr>\n",
       "  </thead>\n",
       "  <tbody>\n",
       "    <tr>\n",
       "      <th>104</th>\n",
       "      <td>58572466</td>\n",
       "      <td>2023-06-28 08:53:17.418000+00:00</td>\n",
       "      <td>0</td>\n",
       "      <td>2023-06-28 08:53:17.418000+00:00</td>\n",
       "      <td>2023</td>\n",
       "      <td>06</td>\n",
       "      <td>28</td>\n",
       "      <td>2023-04-03 07:36:34+00:00</td>\n",
       "      <td>120</td>\n",
       "      <td>2023-04-03 09:36:34+00:00</td>\n",
       "      <td>5558565188</td>\n",
       "      <td>c8y_Acceleration</td>\n",
       "      <td>moving</td>\n",
       "      <td>0.229004</td>\n",
       "      <td>moving</td>\n",
       "      <td>0.282135</td>\n",
       "      <td>moving</td>\n",
       "      <td>-0.471603</td>\n",
       "    </tr>\n",
       "    <tr>\n",
       "      <th>232</th>\n",
       "      <td>58567710</td>\n",
       "      <td>2023-06-28 08:53:12.646000+00:00</td>\n",
       "      <td>0</td>\n",
       "      <td>2023-06-28 08:53:12.646000+00:00</td>\n",
       "      <td>2023</td>\n",
       "      <td>06</td>\n",
       "      <td>28</td>\n",
       "      <td>2023-04-03 07:37:11.500000+00:00</td>\n",
       "      <td>120</td>\n",
       "      <td>2023-04-03 09:37:11.500000+00:00</td>\n",
       "      <td>5558565188</td>\n",
       "      <td>c8y_Acceleration</td>\n",
       "      <td>moving</td>\n",
       "      <td>0.605927</td>\n",
       "      <td>moving</td>\n",
       "      <td>-0.226257</td>\n",
       "      <td>moving</td>\n",
       "      <td>0.917725</td>\n",
       "    </tr>\n",
       "    <tr>\n",
       "      <th>160</th>\n",
       "      <td>58574267</td>\n",
       "      <td>2023-06-28 08:53:12.720000+00:00</td>\n",
       "      <td>0</td>\n",
       "      <td>2023-06-28 08:53:12.720000+00:00</td>\n",
       "      <td>2023</td>\n",
       "      <td>06</td>\n",
       "      <td>28</td>\n",
       "      <td>2023-04-03 07:35:39+00:00</td>\n",
       "      <td>120</td>\n",
       "      <td>2023-04-03 09:35:39+00:00</td>\n",
       "      <td>5558565188</td>\n",
       "      <td>c8y_Acceleration</td>\n",
       "      <td>moving</td>\n",
       "      <td>0.464493</td>\n",
       "      <td>moving</td>\n",
       "      <td>0.564468</td>\n",
       "      <td>moving</td>\n",
       "      <td>-0.182236</td>\n",
       "    </tr>\n",
       "    <tr>\n",
       "      <th>149</th>\n",
       "      <td>58567179</td>\n",
       "      <td>2023-06-28 08:53:17.529000+00:00</td>\n",
       "      <td>0</td>\n",
       "      <td>2023-06-28 08:53:17.529000+00:00</td>\n",
       "      <td>2023</td>\n",
       "      <td>06</td>\n",
       "      <td>28</td>\n",
       "      <td>2023-04-03 07:24:07+00:00</td>\n",
       "      <td>120</td>\n",
       "      <td>2023-04-03 09:24:07+00:00</td>\n",
       "      <td>5558565188</td>\n",
       "      <td>c8y_Acceleration</td>\n",
       "      <td>sitting</td>\n",
       "      <td>0.007202</td>\n",
       "      <td>sitting</td>\n",
       "      <td>0.023743</td>\n",
       "      <td>sitting</td>\n",
       "      <td>0.998169</td>\n",
       "    </tr>\n",
       "    <tr>\n",
       "      <th>256</th>\n",
       "      <td>58574350</td>\n",
       "      <td>2023-06-28 08:53:17.976000+00:00</td>\n",
       "      <td>0</td>\n",
       "      <td>2023-06-28 08:53:17.976000+00:00</td>\n",
       "      <td>2023</td>\n",
       "      <td>06</td>\n",
       "      <td>28</td>\n",
       "      <td>2023-04-03 07:25:14.500000+00:00</td>\n",
       "      <td>120</td>\n",
       "      <td>2023-04-03 09:25:14.500000+00:00</td>\n",
       "      <td>5558565188</td>\n",
       "      <td>c8y_Acceleration</td>\n",
       "      <td>sitting</td>\n",
       "      <td>0.010986</td>\n",
       "      <td>sitting</td>\n",
       "      <td>0.024124</td>\n",
       "      <td>sitting</td>\n",
       "      <td>0.997025</td>\n",
       "    </tr>\n",
       "  </tbody>\n",
       "</table>\n",
       "</div>"
      ],
      "text/plain": [
       "           id                     creationTime  creationTimeOffset  \\\n",
       "104  58572466 2023-06-28 08:53:17.418000+00:00                   0   \n",
       "232  58567710 2023-06-28 08:53:12.646000+00:00                   0   \n",
       "160  58574267 2023-06-28 08:53:12.720000+00:00                   0   \n",
       "149  58567179 2023-06-28 08:53:17.529000+00:00                   0   \n",
       "256  58574350 2023-06-28 08:53:17.976000+00:00                   0   \n",
       "\n",
       "              creationTimeWithOffset  YEAR MONTH DAY  \\\n",
       "104 2023-06-28 08:53:17.418000+00:00  2023    06  28   \n",
       "232 2023-06-28 08:53:12.646000+00:00  2023    06  28   \n",
       "160 2023-06-28 08:53:12.720000+00:00  2023    06  28   \n",
       "149 2023-06-28 08:53:17.529000+00:00  2023    06  28   \n",
       "256 2023-06-28 08:53:17.976000+00:00  2023    06  28   \n",
       "\n",
       "                                time  timeOffset  \\\n",
       "104        2023-04-03 07:36:34+00:00         120   \n",
       "232 2023-04-03 07:37:11.500000+00:00         120   \n",
       "160        2023-04-03 07:35:39+00:00         120   \n",
       "149        2023-04-03 07:24:07+00:00         120   \n",
       "256 2023-04-03 07:25:14.500000+00:00         120   \n",
       "\n",
       "                      timeWithOffset      source              type  \\\n",
       "104        2023-04-03 09:36:34+00:00  5558565188  c8y_Acceleration   \n",
       "232 2023-04-03 09:37:11.500000+00:00  5558565188  c8y_Acceleration   \n",
       "160        2023-04-03 09:35:39+00:00  5558565188  c8y_Acceleration   \n",
       "149        2023-04-03 09:24:07+00:00  5558565188  c8y_Acceleration   \n",
       "256 2023-04-03 09:25:14.500000+00:00  5558565188  c8y_Acceleration   \n",
       "\n",
       "    c8y_Acceleration.accelerationX.label  \\\n",
       "104                               moving   \n",
       "232                               moving   \n",
       "160                               moving   \n",
       "149                              sitting   \n",
       "256                              sitting   \n",
       "\n",
       "     c8y_Acceleration.accelerationX.value  \\\n",
       "104                              0.229004   \n",
       "232                              0.605927   \n",
       "160                              0.464493   \n",
       "149                              0.007202   \n",
       "256                              0.010986   \n",
       "\n",
       "    c8y_Acceleration.accelerationY.label  \\\n",
       "104                               moving   \n",
       "232                               moving   \n",
       "160                               moving   \n",
       "149                              sitting   \n",
       "256                              sitting   \n",
       "\n",
       "     c8y_Acceleration.accelerationY.value  \\\n",
       "104                              0.282135   \n",
       "232                             -0.226257   \n",
       "160                              0.564468   \n",
       "149                              0.023743   \n",
       "256                              0.024124   \n",
       "\n",
       "    c8y_Acceleration.accelerationZ.label  c8y_Acceleration.accelerationZ.value  \n",
       "104                               moving                             -0.471603  \n",
       "232                               moving                              0.917725  \n",
       "160                               moving                             -0.182236  \n",
       "149                              sitting                              0.998169  \n",
       "256                              sitting                              0.997025  "
      ]
     },
     "execution_count": 15,
     "metadata": {},
     "output_type": "execute_result"
    }
   ],
   "source": [
    "# convert parquet datatset to pandas\n",
    "data = pf.read().to_pandas()\n",
    "data.sample(5)"
   ]
  },
  {
   "cell_type": "code",
   "execution_count": 16,
   "id": "729fd155-1352-43b9-a1d2-b57333beb556",
   "metadata": {
    "tags": []
   },
   "outputs": [
    {
     "data": {
      "text/html": [
       "<div>\n",
       "<style scoped>\n",
       "    .dataframe tbody tr th:only-of-type {\n",
       "        vertical-align: middle;\n",
       "    }\n",
       "\n",
       "    .dataframe tbody tr th {\n",
       "        vertical-align: top;\n",
       "    }\n",
       "\n",
       "    .dataframe thead th {\n",
       "        text-align: right;\n",
       "    }\n",
       "</style>\n",
       "<table border=\"1\" class=\"dataframe\">\n",
       "  <thead>\n",
       "    <tr style=\"text-align: right;\">\n",
       "      <th></th>\n",
       "      <th>creationTime</th>\n",
       "      <th>creationTimeOffset</th>\n",
       "      <th>creationTimeWithOffset</th>\n",
       "      <th>YEAR</th>\n",
       "      <th>MONTH</th>\n",
       "      <th>DAY</th>\n",
       "      <th>time</th>\n",
       "      <th>timeOffset</th>\n",
       "      <th>timeWithOffset</th>\n",
       "      <th>source</th>\n",
       "      <th>type</th>\n",
       "      <th>c8y_Acceleration.accelerationX.label</th>\n",
       "      <th>c8y_Acceleration.accelerationX.value</th>\n",
       "      <th>c8y_Acceleration.accelerationY.label</th>\n",
       "      <th>c8y_Acceleration.accelerationY.value</th>\n",
       "      <th>c8y_Acceleration.accelerationZ.label</th>\n",
       "      <th>c8y_Acceleration.accelerationZ.value</th>\n",
       "    </tr>\n",
       "  </thead>\n",
       "  <tbody>\n",
       "    <tr>\n",
       "      <th>582</th>\n",
       "      <td>2023-06-28 08:53:19.048000+00:00</td>\n",
       "      <td>0</td>\n",
       "      <td>2023-06-28 08:53:19.048000+00:00</td>\n",
       "      <td>2023</td>\n",
       "      <td>06</td>\n",
       "      <td>28</td>\n",
       "      <td>2023-04-03 07:35:38.500000+00:00</td>\n",
       "      <td>120</td>\n",
       "      <td>2023-04-03 09:35:38.500000+00:00</td>\n",
       "      <td>5558565188</td>\n",
       "      <td>c8y_Acceleration</td>\n",
       "      <td>moving</td>\n",
       "      <td>0.832062</td>\n",
       "      <td>moving</td>\n",
       "      <td>0.141586</td>\n",
       "      <td>moving</td>\n",
       "      <td>-1.136993</td>\n",
       "    </tr>\n",
       "    <tr>\n",
       "      <th>40</th>\n",
       "      <td>2023-06-28 08:53:16.505000+00:00</td>\n",
       "      <td>0</td>\n",
       "      <td>2023-06-28 08:53:16.505000+00:00</td>\n",
       "      <td>2023</td>\n",
       "      <td>06</td>\n",
       "      <td>28</td>\n",
       "      <td>2023-04-03 07:37:06.500000+00:00</td>\n",
       "      <td>120</td>\n",
       "      <td>2023-04-03 09:37:06.500000+00:00</td>\n",
       "      <td>5558565188</td>\n",
       "      <td>c8y_Acceleration</td>\n",
       "      <td>moving</td>\n",
       "      <td>0.994644</td>\n",
       "      <td>moving</td>\n",
       "      <td>-0.007782</td>\n",
       "      <td>moving</td>\n",
       "      <td>-1.044525</td>\n",
       "    </tr>\n",
       "    <tr>\n",
       "      <th>598</th>\n",
       "      <td>2023-06-28 08:53:13.264000+00:00</td>\n",
       "      <td>0</td>\n",
       "      <td>2023-06-28 08:53:13.264000+00:00</td>\n",
       "      <td>2023</td>\n",
       "      <td>06</td>\n",
       "      <td>28</td>\n",
       "      <td>2023-04-03 07:25:36+00:00</td>\n",
       "      <td>120</td>\n",
       "      <td>2023-04-03 09:25:36+00:00</td>\n",
       "      <td>5558565188</td>\n",
       "      <td>c8y_Acceleration</td>\n",
       "      <td>sitting</td>\n",
       "      <td>0.011520</td>\n",
       "      <td>sitting</td>\n",
       "      <td>0.024551</td>\n",
       "      <td>sitting</td>\n",
       "      <td>0.997559</td>\n",
       "    </tr>\n",
       "    <tr>\n",
       "      <th>391</th>\n",
       "      <td>2023-06-28 08:53:09.276000+00:00</td>\n",
       "      <td>0</td>\n",
       "      <td>2023-06-28 08:53:09.276000+00:00</td>\n",
       "      <td>2023</td>\n",
       "      <td>06</td>\n",
       "      <td>28</td>\n",
       "      <td>2023-04-03 07:35:11+00:00</td>\n",
       "      <td>120</td>\n",
       "      <td>2023-04-03 09:35:11+00:00</td>\n",
       "      <td>5558565188</td>\n",
       "      <td>c8y_Acceleration</td>\n",
       "      <td>moving</td>\n",
       "      <td>-1.053024</td>\n",
       "      <td>moving</td>\n",
       "      <td>0.612946</td>\n",
       "      <td>moving</td>\n",
       "      <td>-0.273682</td>\n",
       "    </tr>\n",
       "    <tr>\n",
       "      <th>322</th>\n",
       "      <td>2023-06-28 08:53:09.075000+00:00</td>\n",
       "      <td>0</td>\n",
       "      <td>2023-06-28 08:53:09.075000+00:00</td>\n",
       "      <td>2023</td>\n",
       "      <td>06</td>\n",
       "      <td>28</td>\n",
       "      <td>2023-04-03 07:35:33+00:00</td>\n",
       "      <td>120</td>\n",
       "      <td>2023-04-03 09:35:33+00:00</td>\n",
       "      <td>5558565188</td>\n",
       "      <td>c8y_Acceleration</td>\n",
       "      <td>moving</td>\n",
       "      <td>0.324265</td>\n",
       "      <td>moving</td>\n",
       "      <td>0.331284</td>\n",
       "      <td>moving</td>\n",
       "      <td>-0.842850</td>\n",
       "    </tr>\n",
       "  </tbody>\n",
       "</table>\n",
       "</div>"
      ],
      "text/plain": [
       "                        creationTime  creationTimeOffset  \\\n",
       "582 2023-06-28 08:53:19.048000+00:00                   0   \n",
       "40  2023-06-28 08:53:16.505000+00:00                   0   \n",
       "598 2023-06-28 08:53:13.264000+00:00                   0   \n",
       "391 2023-06-28 08:53:09.276000+00:00                   0   \n",
       "322 2023-06-28 08:53:09.075000+00:00                   0   \n",
       "\n",
       "              creationTimeWithOffset  YEAR MONTH DAY  \\\n",
       "582 2023-06-28 08:53:19.048000+00:00  2023    06  28   \n",
       "40  2023-06-28 08:53:16.505000+00:00  2023    06  28   \n",
       "598 2023-06-28 08:53:13.264000+00:00  2023    06  28   \n",
       "391 2023-06-28 08:53:09.276000+00:00  2023    06  28   \n",
       "322 2023-06-28 08:53:09.075000+00:00  2023    06  28   \n",
       "\n",
       "                                time  timeOffset  \\\n",
       "582 2023-04-03 07:35:38.500000+00:00         120   \n",
       "40  2023-04-03 07:37:06.500000+00:00         120   \n",
       "598        2023-04-03 07:25:36+00:00         120   \n",
       "391        2023-04-03 07:35:11+00:00         120   \n",
       "322        2023-04-03 07:35:33+00:00         120   \n",
       "\n",
       "                      timeWithOffset      source              type  \\\n",
       "582 2023-04-03 09:35:38.500000+00:00  5558565188  c8y_Acceleration   \n",
       "40  2023-04-03 09:37:06.500000+00:00  5558565188  c8y_Acceleration   \n",
       "598        2023-04-03 09:25:36+00:00  5558565188  c8y_Acceleration   \n",
       "391        2023-04-03 09:35:11+00:00  5558565188  c8y_Acceleration   \n",
       "322        2023-04-03 09:35:33+00:00  5558565188  c8y_Acceleration   \n",
       "\n",
       "    c8y_Acceleration.accelerationX.label  \\\n",
       "582                               moving   \n",
       "40                                moving   \n",
       "598                              sitting   \n",
       "391                               moving   \n",
       "322                               moving   \n",
       "\n",
       "     c8y_Acceleration.accelerationX.value  \\\n",
       "582                              0.832062   \n",
       "40                               0.994644   \n",
       "598                              0.011520   \n",
       "391                             -1.053024   \n",
       "322                              0.324265   \n",
       "\n",
       "    c8y_Acceleration.accelerationY.label  \\\n",
       "582                               moving   \n",
       "40                                moving   \n",
       "598                              sitting   \n",
       "391                               moving   \n",
       "322                               moving   \n",
       "\n",
       "     c8y_Acceleration.accelerationY.value  \\\n",
       "582                              0.141586   \n",
       "40                              -0.007782   \n",
       "598                              0.024551   \n",
       "391                              0.612946   \n",
       "322                              0.331284   \n",
       "\n",
       "    c8y_Acceleration.accelerationZ.label  c8y_Acceleration.accelerationZ.value  \n",
       "582                               moving                             -1.136993  \n",
       "40                                moving                             -1.044525  \n",
       "598                              sitting                              0.997559  \n",
       "391                               moving                             -0.273682  \n",
       "322                               moving                             -0.842850  "
      ]
     },
     "execution_count": 16,
     "metadata": {},
     "output_type": "execute_result"
    }
   ],
   "source": [
    "#remove time column from the source\n",
    "data.pop(data.columns[0])\n",
    "data.sample(5)"
   ]
  },
  {
   "cell_type": "code",
   "execution_count": 17,
   "id": "0cd40a91-9567-46fb-85fe-9b1caa27462c",
   "metadata": {
    "tags": []
   },
   "outputs": [
    {
     "data": {
      "text/html": [
       "<div>\n",
       "<style scoped>\n",
       "    .dataframe tbody tr th:only-of-type {\n",
       "        vertical-align: middle;\n",
       "    }\n",
       "\n",
       "    .dataframe tbody tr th {\n",
       "        vertical-align: top;\n",
       "    }\n",
       "\n",
       "    .dataframe thead th {\n",
       "        text-align: right;\n",
       "    }\n",
       "</style>\n",
       "<table border=\"1\" class=\"dataframe\">\n",
       "  <thead>\n",
       "    <tr style=\"text-align: right;\">\n",
       "      <th></th>\n",
       "      <th>accelerationX</th>\n",
       "      <th>accelerationY</th>\n",
       "      <th>label</th>\n",
       "      <th>accelerationZ</th>\n",
       "    </tr>\n",
       "  </thead>\n",
       "  <tbody>\n",
       "    <tr>\n",
       "      <th>280</th>\n",
       "      <td>0.691177</td>\n",
       "      <td>0.321640</td>\n",
       "      <td>moving</td>\n",
       "      <td>0.915924</td>\n",
       "    </tr>\n",
       "    <tr>\n",
       "      <th>311</th>\n",
       "      <td>0.494385</td>\n",
       "      <td>0.495193</td>\n",
       "      <td>moving</td>\n",
       "      <td>-0.644180</td>\n",
       "    </tr>\n",
       "    <tr>\n",
       "      <th>210</th>\n",
       "      <td>0.661697</td>\n",
       "      <td>0.434265</td>\n",
       "      <td>moving</td>\n",
       "      <td>-0.039047</td>\n",
       "    </tr>\n",
       "    <tr>\n",
       "      <th>666</th>\n",
       "      <td>1.057373</td>\n",
       "      <td>-0.079422</td>\n",
       "      <td>moving</td>\n",
       "      <td>-0.920441</td>\n",
       "    </tr>\n",
       "    <tr>\n",
       "      <th>474</th>\n",
       "      <td>1.022873</td>\n",
       "      <td>0.290695</td>\n",
       "      <td>moving</td>\n",
       "      <td>0.160690</td>\n",
       "    </tr>\n",
       "  </tbody>\n",
       "</table>\n",
       "</div>"
      ],
      "text/plain": [
       "     accelerationX  accelerationY   label  accelerationZ\n",
       "280       0.691177       0.321640  moving       0.915924\n",
       "311       0.494385       0.495193  moving      -0.644180\n",
       "210       0.661697       0.434265  moving      -0.039047\n",
       "666       1.057373      -0.079422  moving      -0.920441\n",
       "474       1.022873       0.290695  moving       0.160690"
      ]
     },
     "execution_count": 17,
     "metadata": {},
     "output_type": "execute_result"
    }
   ],
   "source": [
    "\n",
    "# drop unused column and rename colum\n",
    "data = data.drop( ['creationTime', 'creationTimeOffset','creationTimeWithOffset', 'YEAR', 'MONTH', 'DAY', 'time', 'timeOffset', 'timeWithOffset', 'source', 'type',  'c8y_Acceleration.accelerationX.label', 'c8y_Acceleration.accelerationY.label'  ], axis = 1)\n",
    "\n",
    "data = data.rename(columns={\"c8y_Acceleration.accelerationZ.label\": \"label\" ,\"c8y_Acceleration.accelerationX.value\": \"accelerationX\", \"c8y_Acceleration.accelerationY.value\": \"accelerationY\",\"c8y_Acceleration.accelerationZ.value\": \"accelerationZ\"})\n",
    "\n",
    "data.sample(5)\n",
    "\n",
    "# pop the label columns\n",
    "#labels = data.pop(\"label\")\n",
    "#print(labels)"
   ]
  },
  {
   "cell_type": "code",
   "execution_count": 18,
   "id": "2108cf50-a558-4d35-98e2-e8e99623d04b",
   "metadata": {
    "tags": []
   },
   "outputs": [
    {
     "name": "stdout",
     "output_type": "stream",
     "text": [
      "0      sitting\n",
      "1      sitting\n",
      "2      sitting\n",
      "3       moving\n",
      "4      sitting\n",
      "        ...   \n",
      "739    sitting\n",
      "740     moving\n",
      "741     moving\n",
      "742     moving\n",
      "743     moving\n",
      "Name: label, Length: 744, dtype: object\n"
     ]
    }
   ],
   "source": [
    "# pop the label columns\n",
    "labels = data.pop(\"label\")\n",
    "print(labels)"
   ]
  },
  {
   "cell_type": "code",
   "execution_count": 19,
   "id": "5e0eae82-6f12-4af4-820e-3a2a24640a9a",
   "metadata": {
    "tags": []
   },
   "outputs": [
    {
     "data": {
      "text/html": [
       "<div>\n",
       "<style scoped>\n",
       "    .dataframe tbody tr th:only-of-type {\n",
       "        vertical-align: middle;\n",
       "    }\n",
       "\n",
       "    .dataframe tbody tr th {\n",
       "        vertical-align: top;\n",
       "    }\n",
       "\n",
       "    .dataframe thead th {\n",
       "        text-align: right;\n",
       "    }\n",
       "</style>\n",
       "<table border=\"1\" class=\"dataframe\">\n",
       "  <thead>\n",
       "    <tr style=\"text-align: right;\">\n",
       "      <th></th>\n",
       "      <th>accelerationX</th>\n",
       "      <th>accelerationY</th>\n",
       "      <th>accelerationZ</th>\n",
       "    </tr>\n",
       "  </thead>\n",
       "  <tbody>\n",
       "    <tr>\n",
       "      <th>580</th>\n",
       "      <td>-0.377754</td>\n",
       "      <td>-0.129798</td>\n",
       "      <td>0.773110</td>\n",
       "    </tr>\n",
       "    <tr>\n",
       "      <th>467</th>\n",
       "      <td>-0.170227</td>\n",
       "      <td>-0.515519</td>\n",
       "      <td>0.524468</td>\n",
       "    </tr>\n",
       "    <tr>\n",
       "      <th>90</th>\n",
       "      <td>-3.117113</td>\n",
       "      <td>1.546385</td>\n",
       "      <td>-0.831440</td>\n",
       "    </tr>\n",
       "    <tr>\n",
       "      <th>637</th>\n",
       "      <td>0.124207</td>\n",
       "      <td>1.264204</td>\n",
       "      <td>-0.047858</td>\n",
       "    </tr>\n",
       "    <tr>\n",
       "      <th>634</th>\n",
       "      <td>-0.196646</td>\n",
       "      <td>-0.494570</td>\n",
       "      <td>0.527083</td>\n",
       "    </tr>\n",
       "  </tbody>\n",
       "</table>\n",
       "</div>"
      ],
      "text/plain": [
       "     accelerationX  accelerationY  accelerationZ\n",
       "580      -0.377754      -0.129798       0.773110\n",
       "467      -0.170227      -0.515519       0.524468\n",
       "90       -3.117113       1.546385      -0.831440\n",
       "637       0.124207       1.264204      -0.047858\n",
       "634      -0.196646      -0.494570       0.527083"
      ]
     },
     "execution_count": 19,
     "metadata": {},
     "output_type": "execute_result"
    }
   ],
   "source": [
    "# normalize data\n",
    "data = (data - data.mean()) / data.std() \n",
    "data.sample(5)"
   ]
  },
  {
   "cell_type": "code",
   "execution_count": 20,
   "id": "4f8ccabc-58af-4b4f-8efe-9dfb81111418",
   "metadata": {
    "tags": []
   },
   "outputs": [
    {
     "name": "stdout",
     "output_type": "stream",
     "text": [
      "[[[-0.19453572]\n",
      "  [-0.49746739]\n",
      "  [ 0.52405891]]\n",
      "\n",
      " [[-0.19928323]\n",
      "  [-0.49668254]\n",
      "  [ 0.52419535]]\n",
      "\n",
      " [[-0.19844802]\n",
      "  [-0.50290092]\n",
      "  [ 0.52412713]]\n",
      "\n",
      " ...\n",
      "\n",
      " [[ 0.09343603]\n",
      "  [ 1.13053909]\n",
      "  [ 0.52278546]]\n",
      "\n",
      " [[-1.08680414]\n",
      "  [ 2.14467738]\n",
      "  [-1.5577631 ]]\n",
      "\n",
      " [[-0.81637182]\n",
      "  [ 0.41168301]\n",
      "  [ 0.34215986]]]\n"
     ]
    }
   ],
   "source": [
    "# Reshape data to 3D array\n",
    "data = data.values.reshape((-1, 3, 1))\n",
    "print(data)"
   ]
  },
  {
   "cell_type": "code",
   "execution_count": 21,
   "id": "f565db7a-c51f-444e-b871-f44f3dcac875",
   "metadata": {
    "tags": []
   },
   "outputs": [],
   "source": [
    "# Convert labels to binary\n",
    "labels = np.where(labels==\"moving\", 1, 0)"
   ]
  },
  {
   "cell_type": "code",
   "execution_count": 22,
   "id": "81f53eb8-5254-41fd-a447-fab50a2b773c",
   "metadata": {
    "tags": []
   },
   "outputs": [],
   "source": [
    "# Split data into train and test sets\n",
    "split = int(len(data) * 0.8)\n",
    "x_train = data[:split]\n",
    "y_train = labels[:split]\n",
    "x_test = data[split:]\n",
    "y_test = labels[split:]"
   ]
  },
  {
   "cell_type": "code",
   "execution_count": 23,
   "id": "5143e4ef-6084-4f4f-b305-87adb9e18736",
   "metadata": {
    "tags": []
   },
   "outputs": [],
   "source": [
    "# Define the model\n",
    "model = tf.keras.Sequential([\n",
    "    tf.keras.layers.Input(shape=(3, 1)),\n",
    "    tf.keras.layers.Conv1D(32, 3, activation='relu', padding='same'),\n",
    "    tf.keras.layers.Reshape((3, 32, 1)),\n",
    "    tf.keras.layers.MaxPooling2D((2, 1)),\n",
    "    tf.keras.layers.Flatten(),\n",
    "    tf.keras.layers.Dense(128, activation='relu'),\n",
    "    tf.keras.layers.Dropout(0.5),\n",
    "    tf.keras.layers.Dense(1, activation='sigmoid')\n",
    "])"
   ]
  },
  {
   "cell_type": "code",
   "execution_count": 24,
   "id": "03f4b059-3526-4228-b622-69c70a1c5981",
   "metadata": {
    "tags": []
   },
   "outputs": [],
   "source": [
    "# Compile the model\n",
    "model.compile(optimizer='adam',\n",
    "              loss='binary_crossentropy',\n",
    "              metrics=['accuracy'])"
   ]
  },
  {
   "cell_type": "code",
   "execution_count": 25,
   "id": "f130e406-b034-423f-861b-5fd2851f5a94",
   "metadata": {
    "tags": []
   },
   "outputs": [
    {
     "name": "stdout",
     "output_type": "stream",
     "text": [
      "Epoch 1/30\n",
      "10/10 [==============================] - 1s 27ms/step - loss: 0.6620 - accuracy: 0.6437 - val_loss: 0.6005 - val_accuracy: 0.5369\n",
      "Epoch 2/30\n",
      "10/10 [==============================] - 0s 6ms/step - loss: 0.5791 - accuracy: 0.6790 - val_loss: 0.5320 - val_accuracy: 0.5436\n",
      "Epoch 3/30\n",
      "10/10 [==============================] - 0s 6ms/step - loss: 0.5213 - accuracy: 0.8050 - val_loss: 0.4790 - val_accuracy: 0.9195\n",
      "Epoch 4/30\n",
      "10/10 [==============================] - 0s 8ms/step - loss: 0.4693 - accuracy: 0.9160 - val_loss: 0.4332 - val_accuracy: 0.8859\n",
      "Epoch 5/30\n",
      "10/10 [==============================] - 0s 7ms/step - loss: 0.4250 - accuracy: 0.9126 - val_loss: 0.3956 - val_accuracy: 0.8859\n",
      "Epoch 6/30\n",
      "10/10 [==============================] - 0s 6ms/step - loss: 0.3898 - accuracy: 0.9059 - val_loss: 0.3632 - val_accuracy: 0.8859\n",
      "Epoch 7/30\n",
      "10/10 [==============================] - 0s 7ms/step - loss: 0.3590 - accuracy: 0.9042 - val_loss: 0.3354 - val_accuracy: 0.8859\n",
      "Epoch 8/30\n",
      "10/10 [==============================] - 0s 6ms/step - loss: 0.3266 - accuracy: 0.9109 - val_loss: 0.3092 - val_accuracy: 0.8859\n",
      "Epoch 9/30\n",
      "10/10 [==============================] - 0s 6ms/step - loss: 0.2990 - accuracy: 0.9126 - val_loss: 0.2859 - val_accuracy: 0.8993\n",
      "Epoch 10/30\n",
      "10/10 [==============================] - 0s 6ms/step - loss: 0.2774 - accuracy: 0.9109 - val_loss: 0.2633 - val_accuracy: 0.9128\n",
      "Epoch 11/30\n",
      "10/10 [==============================] - 0s 6ms/step - loss: 0.2536 - accuracy: 0.9227 - val_loss: 0.2429 - val_accuracy: 0.9128\n",
      "Epoch 12/30\n",
      "10/10 [==============================] - 0s 5ms/step - loss: 0.2434 - accuracy: 0.9227 - val_loss: 0.2236 - val_accuracy: 0.9195\n",
      "Epoch 13/30\n",
      "10/10 [==============================] - 0s 6ms/step - loss: 0.2251 - accuracy: 0.9311 - val_loss: 0.2060 - val_accuracy: 0.9396\n",
      "Epoch 14/30\n",
      "10/10 [==============================] - 0s 8ms/step - loss: 0.2039 - accuracy: 0.9361 - val_loss: 0.1910 - val_accuracy: 0.9396\n",
      "Epoch 15/30\n",
      "10/10 [==============================] - 0s 9ms/step - loss: 0.1973 - accuracy: 0.9412 - val_loss: 0.1770 - val_accuracy: 0.9396\n",
      "Epoch 16/30\n",
      "10/10 [==============================] - 0s 7ms/step - loss: 0.1883 - accuracy: 0.9462 - val_loss: 0.1658 - val_accuracy: 0.9530\n",
      "Epoch 17/30\n",
      "10/10 [==============================] - 0s 7ms/step - loss: 0.1780 - accuracy: 0.9462 - val_loss: 0.1556 - val_accuracy: 0.9530\n",
      "Epoch 18/30\n",
      "10/10 [==============================] - 0s 6ms/step - loss: 0.1668 - accuracy: 0.9529 - val_loss: 0.1470 - val_accuracy: 0.9530\n",
      "Epoch 19/30\n",
      "10/10 [==============================] - 0s 5ms/step - loss: 0.1555 - accuracy: 0.9630 - val_loss: 0.1402 - val_accuracy: 0.9530\n",
      "Epoch 20/30\n",
      "10/10 [==============================] - 0s 6ms/step - loss: 0.1502 - accuracy: 0.9597 - val_loss: 0.1351 - val_accuracy: 0.9530\n",
      "Epoch 21/30\n",
      "10/10 [==============================] - 0s 6ms/step - loss: 0.1403 - accuracy: 0.9580 - val_loss: 0.1301 - val_accuracy: 0.9597\n",
      "Epoch 22/30\n",
      "10/10 [==============================] - 0s 6ms/step - loss: 0.1380 - accuracy: 0.9580 - val_loss: 0.1254 - val_accuracy: 0.9597\n",
      "Epoch 23/30\n",
      "10/10 [==============================] - 0s 6ms/step - loss: 0.1288 - accuracy: 0.9664 - val_loss: 0.1215 - val_accuracy: 0.9597\n",
      "Epoch 24/30\n",
      "10/10 [==============================] - 0s 13ms/step - loss: 0.1304 - accuracy: 0.9647 - val_loss: 0.1181 - val_accuracy: 0.9664\n",
      "Epoch 25/30\n",
      "10/10 [==============================] - 0s 7ms/step - loss: 0.1216 - accuracy: 0.9647 - val_loss: 0.1152 - val_accuracy: 0.9664\n",
      "Epoch 26/30\n",
      "10/10 [==============================] - 0s 6ms/step - loss: 0.1219 - accuracy: 0.9630 - val_loss: 0.1128 - val_accuracy: 0.9664\n",
      "Epoch 27/30\n",
      "10/10 [==============================] - 0s 7ms/step - loss: 0.1197 - accuracy: 0.9647 - val_loss: 0.1102 - val_accuracy: 0.9664\n",
      "Epoch 28/30\n",
      "10/10 [==============================] - 0s 7ms/step - loss: 0.1149 - accuracy: 0.9697 - val_loss: 0.1079 - val_accuracy: 0.9664\n",
      "Epoch 29/30\n",
      "10/10 [==============================] - 0s 5ms/step - loss: 0.1129 - accuracy: 0.9647 - val_loss: 0.1060 - val_accuracy: 0.9664\n",
      "Epoch 30/30\n",
      "10/10 [==============================] - 0s 10ms/step - loss: 0.1156 - accuracy: 0.9681 - val_loss: 0.1039 - val_accuracy: 0.9732\n"
     ]
    },
    {
     "data": {
      "text/plain": [
       "<keras.callbacks.History at 0x7f46522a1f50>"
      ]
     },
     "execution_count": 25,
     "metadata": {},
     "output_type": "execute_result"
    }
   ],
   "source": [
    "# Train the model\n",
    "model.fit(x_train, y_train, validation_data=(x_test, y_test), epochs=30, batch_size=64)"
   ]
  },
  {
   "cell_type": "code",
   "execution_count": 35,
   "id": "1fe12d7c-b6bf-49dd-b133-18543a01d203",
   "metadata": {
    "tags": []
   },
   "outputs": [
    {
     "name": "stdout",
     "output_type": "stream",
     "text": [
      "5/5 [==============================] - 0s 3ms/step - loss: 0.1039 - accuracy: 0.9732\n",
      "Test accuracy: 0.9731543660163879\n"
     ]
    }
   ],
   "source": [
    "# Evaluate the model\n",
    "test_loss, test_acc = model.evaluate(x_test, y_test)\n",
    "print('Test accuracy:', test_acc)"
   ]
  },
  {
   "cell_type": "code",
   "execution_count": 36,
   "id": "6e6cae56-6637-4f60-87c7-783c06475f4a",
   "metadata": {
    "tags": []
   },
   "outputs": [
    {
     "name": "stdout",
     "output_type": "stream",
     "text": [
      "1/1 [==============================] - 0s 35ms/step\n"
     ]
    },
    {
     "data": {
      "text/plain": [
       "array([[0.99875534]], dtype=float32)"
      ]
     },
     "execution_count": 36,
     "metadata": {},
     "output_type": "execute_result"
    }
   ],
   "source": [
    "# Use the model to predict label for a single row of data\n",
    "single_row = np.array([[[0.070770263671875,0.7673492431640625,0.751739501953125]]]).reshape((1, 3, 1))\n",
    "#single_row = np.array([1.0,1.0,1.0]).reshape((1, 3, 1))\n",
    "prediction = model.predict(single_row)\n",
    "prediction "
   ]
  },
  {
   "cell_type": "code",
   "execution_count": 37,
   "id": "2dd6bf6a-9e4c-4ef0-9b50-9a57f58805f1",
   "metadata": {
    "tags": []
   },
   "outputs": [
    {
     "name": "stderr",
     "output_type": "stream",
     "text": [
      "WARNING:absl:Found untraced functions such as _jit_compiled_convolution_op, _update_step_xla while saving (showing 2 of 2). These functions will not be directly callable after loading.\n"
     ]
    },
    {
     "name": "stdout",
     "output_type": "stream",
     "text": [
      "INFO:tensorflow:Assets written to: ../model/cumulocity_classification_model/assets\n"
     ]
    },
    {
     "name": "stderr",
     "output_type": "stream",
     "text": [
      "INFO:tensorflow:Assets written to: ../model/cumulocity_classification_model/assets\n"
     ]
    },
    {
     "name": "stdout",
     "output_type": "stream",
     "text": [
      "\n",
      "Saved model:../model/cumulocity_classification_model\n"
     ]
    }
   ],
   "source": [
    "#MODEL_DIR = tempfile.gettempdir()\n",
    "version = 1\n",
    "#export_path = os.path.join(MODEL_DIR, str(version))\n",
    "#print('export_path = {}\\n'.format(export_path))\n",
    "\n",
    "export_path = '../model/cumulocity_classification_model'\n",
    "\n",
    "# Export the model as a SavedModel\n",
    "tf.saved_model.save(model, export_path)\n",
    "\n",
    "\n",
    "print('\\nSaved model:' + export_path)\n",
    "#!ls -l {export_path}"
   ]
  },
  {
   "cell_type": "code",
   "execution_count": 38,
   "id": "6d1bdc52-aa02-477f-974a-b001b0bff781",
   "metadata": {
    "tags": []
   },
   "outputs": [],
   "source": [
    "local_model_path = f\"{export_path}/model.onnx\"\n",
    "onnx_model, _ = tf2onnx.convert.from_keras(model, opset=13)\n",
    "onnx.save(onnx_model, local_model_path)"
   ]
  },
  {
   "cell_type": "code",
   "execution_count": 39,
   "id": "74e74d28-d35b-41dc-80a1-80a28286508b",
   "metadata": {
    "tags": []
   },
   "outputs": [],
   "source": [
    "model_sub_folder = 'mstoffel/t15264971/model'\n",
    "file_name = 'acceleration_model.onnx'\n",
    "\n",
    "s3_model_path = f\"{bucket}/{model_sub_folder}/{file_name}\"\n",
    "\n",
    "s3.put(local_model_path, s3_model_path)\n",
    "\n"
   ]
  }
 ],
 "metadata": {
  "availableInstances": [
   {
    "_defaultOrder": 0,
    "_isFastLaunch": true,
    "category": "General purpose",
    "gpuNum": 0,
    "hideHardwareSpecs": false,
    "memoryGiB": 4,
    "name": "ml.t3.medium",
    "vcpuNum": 2
   },
   {
    "_defaultOrder": 1,
    "_isFastLaunch": false,
    "category": "General purpose",
    "gpuNum": 0,
    "hideHardwareSpecs": false,
    "memoryGiB": 8,
    "name": "ml.t3.large",
    "vcpuNum": 2
   },
   {
    "_defaultOrder": 2,
    "_isFastLaunch": false,
    "category": "General purpose",
    "gpuNum": 0,
    "hideHardwareSpecs": false,
    "memoryGiB": 16,
    "name": "ml.t3.xlarge",
    "vcpuNum": 4
   },
   {
    "_defaultOrder": 3,
    "_isFastLaunch": false,
    "category": "General purpose",
    "gpuNum": 0,
    "hideHardwareSpecs": false,
    "memoryGiB": 32,
    "name": "ml.t3.2xlarge",
    "vcpuNum": 8
   },
   {
    "_defaultOrder": 4,
    "_isFastLaunch": true,
    "category": "General purpose",
    "gpuNum": 0,
    "hideHardwareSpecs": false,
    "memoryGiB": 8,
    "name": "ml.m5.large",
    "vcpuNum": 2
   },
   {
    "_defaultOrder": 5,
    "_isFastLaunch": false,
    "category": "General purpose",
    "gpuNum": 0,
    "hideHardwareSpecs": false,
    "memoryGiB": 16,
    "name": "ml.m5.xlarge",
    "vcpuNum": 4
   },
   {
    "_defaultOrder": 6,
    "_isFastLaunch": false,
    "category": "General purpose",
    "gpuNum": 0,
    "hideHardwareSpecs": false,
    "memoryGiB": 32,
    "name": "ml.m5.2xlarge",
    "vcpuNum": 8
   },
   {
    "_defaultOrder": 7,
    "_isFastLaunch": false,
    "category": "General purpose",
    "gpuNum": 0,
    "hideHardwareSpecs": false,
    "memoryGiB": 64,
    "name": "ml.m5.4xlarge",
    "vcpuNum": 16
   },
   {
    "_defaultOrder": 8,
    "_isFastLaunch": false,
    "category": "General purpose",
    "gpuNum": 0,
    "hideHardwareSpecs": false,
    "memoryGiB": 128,
    "name": "ml.m5.8xlarge",
    "vcpuNum": 32
   },
   {
    "_defaultOrder": 9,
    "_isFastLaunch": false,
    "category": "General purpose",
    "gpuNum": 0,
    "hideHardwareSpecs": false,
    "memoryGiB": 192,
    "name": "ml.m5.12xlarge",
    "vcpuNum": 48
   },
   {
    "_defaultOrder": 10,
    "_isFastLaunch": false,
    "category": "General purpose",
    "gpuNum": 0,
    "hideHardwareSpecs": false,
    "memoryGiB": 256,
    "name": "ml.m5.16xlarge",
    "vcpuNum": 64
   },
   {
    "_defaultOrder": 11,
    "_isFastLaunch": false,
    "category": "General purpose",
    "gpuNum": 0,
    "hideHardwareSpecs": false,
    "memoryGiB": 384,
    "name": "ml.m5.24xlarge",
    "vcpuNum": 96
   },
   {
    "_defaultOrder": 12,
    "_isFastLaunch": false,
    "category": "General purpose",
    "gpuNum": 0,
    "hideHardwareSpecs": false,
    "memoryGiB": 8,
    "name": "ml.m5d.large",
    "vcpuNum": 2
   },
   {
    "_defaultOrder": 13,
    "_isFastLaunch": false,
    "category": "General purpose",
    "gpuNum": 0,
    "hideHardwareSpecs": false,
    "memoryGiB": 16,
    "name": "ml.m5d.xlarge",
    "vcpuNum": 4
   },
   {
    "_defaultOrder": 14,
    "_isFastLaunch": false,
    "category": "General purpose",
    "gpuNum": 0,
    "hideHardwareSpecs": false,
    "memoryGiB": 32,
    "name": "ml.m5d.2xlarge",
    "vcpuNum": 8
   },
   {
    "_defaultOrder": 15,
    "_isFastLaunch": false,
    "category": "General purpose",
    "gpuNum": 0,
    "hideHardwareSpecs": false,
    "memoryGiB": 64,
    "name": "ml.m5d.4xlarge",
    "vcpuNum": 16
   },
   {
    "_defaultOrder": 16,
    "_isFastLaunch": false,
    "category": "General purpose",
    "gpuNum": 0,
    "hideHardwareSpecs": false,
    "memoryGiB": 128,
    "name": "ml.m5d.8xlarge",
    "vcpuNum": 32
   },
   {
    "_defaultOrder": 17,
    "_isFastLaunch": false,
    "category": "General purpose",
    "gpuNum": 0,
    "hideHardwareSpecs": false,
    "memoryGiB": 192,
    "name": "ml.m5d.12xlarge",
    "vcpuNum": 48
   },
   {
    "_defaultOrder": 18,
    "_isFastLaunch": false,
    "category": "General purpose",
    "gpuNum": 0,
    "hideHardwareSpecs": false,
    "memoryGiB": 256,
    "name": "ml.m5d.16xlarge",
    "vcpuNum": 64
   },
   {
    "_defaultOrder": 19,
    "_isFastLaunch": false,
    "category": "General purpose",
    "gpuNum": 0,
    "hideHardwareSpecs": false,
    "memoryGiB": 384,
    "name": "ml.m5d.24xlarge",
    "vcpuNum": 96
   },
   {
    "_defaultOrder": 20,
    "_isFastLaunch": false,
    "category": "General purpose",
    "gpuNum": 0,
    "hideHardwareSpecs": true,
    "memoryGiB": 0,
    "name": "ml.geospatial.interactive",
    "supportedImageNames": [
     "sagemaker-geospatial-v1-0"
    ],
    "vcpuNum": 0
   },
   {
    "_defaultOrder": 21,
    "_isFastLaunch": true,
    "category": "Compute optimized",
    "gpuNum": 0,
    "hideHardwareSpecs": false,
    "memoryGiB": 4,
    "name": "ml.c5.large",
    "vcpuNum": 2
   },
   {
    "_defaultOrder": 22,
    "_isFastLaunch": false,
    "category": "Compute optimized",
    "gpuNum": 0,
    "hideHardwareSpecs": false,
    "memoryGiB": 8,
    "name": "ml.c5.xlarge",
    "vcpuNum": 4
   },
   {
    "_defaultOrder": 23,
    "_isFastLaunch": false,
    "category": "Compute optimized",
    "gpuNum": 0,
    "hideHardwareSpecs": false,
    "memoryGiB": 16,
    "name": "ml.c5.2xlarge",
    "vcpuNum": 8
   },
   {
    "_defaultOrder": 24,
    "_isFastLaunch": false,
    "category": "Compute optimized",
    "gpuNum": 0,
    "hideHardwareSpecs": false,
    "memoryGiB": 32,
    "name": "ml.c5.4xlarge",
    "vcpuNum": 16
   },
   {
    "_defaultOrder": 25,
    "_isFastLaunch": false,
    "category": "Compute optimized",
    "gpuNum": 0,
    "hideHardwareSpecs": false,
    "memoryGiB": 72,
    "name": "ml.c5.9xlarge",
    "vcpuNum": 36
   },
   {
    "_defaultOrder": 26,
    "_isFastLaunch": false,
    "category": "Compute optimized",
    "gpuNum": 0,
    "hideHardwareSpecs": false,
    "memoryGiB": 96,
    "name": "ml.c5.12xlarge",
    "vcpuNum": 48
   },
   {
    "_defaultOrder": 27,
    "_isFastLaunch": false,
    "category": "Compute optimized",
    "gpuNum": 0,
    "hideHardwareSpecs": false,
    "memoryGiB": 144,
    "name": "ml.c5.18xlarge",
    "vcpuNum": 72
   },
   {
    "_defaultOrder": 28,
    "_isFastLaunch": false,
    "category": "Compute optimized",
    "gpuNum": 0,
    "hideHardwareSpecs": false,
    "memoryGiB": 192,
    "name": "ml.c5.24xlarge",
    "vcpuNum": 96
   },
   {
    "_defaultOrder": 29,
    "_isFastLaunch": true,
    "category": "Accelerated computing",
    "gpuNum": 1,
    "hideHardwareSpecs": false,
    "memoryGiB": 16,
    "name": "ml.g4dn.xlarge",
    "vcpuNum": 4
   },
   {
    "_defaultOrder": 30,
    "_isFastLaunch": false,
    "category": "Accelerated computing",
    "gpuNum": 1,
    "hideHardwareSpecs": false,
    "memoryGiB": 32,
    "name": "ml.g4dn.2xlarge",
    "vcpuNum": 8
   },
   {
    "_defaultOrder": 31,
    "_isFastLaunch": false,
    "category": "Accelerated computing",
    "gpuNum": 1,
    "hideHardwareSpecs": false,
    "memoryGiB": 64,
    "name": "ml.g4dn.4xlarge",
    "vcpuNum": 16
   },
   {
    "_defaultOrder": 32,
    "_isFastLaunch": false,
    "category": "Accelerated computing",
    "gpuNum": 1,
    "hideHardwareSpecs": false,
    "memoryGiB": 128,
    "name": "ml.g4dn.8xlarge",
    "vcpuNum": 32
   },
   {
    "_defaultOrder": 33,
    "_isFastLaunch": false,
    "category": "Accelerated computing",
    "gpuNum": 4,
    "hideHardwareSpecs": false,
    "memoryGiB": 192,
    "name": "ml.g4dn.12xlarge",
    "vcpuNum": 48
   },
   {
    "_defaultOrder": 34,
    "_isFastLaunch": false,
    "category": "Accelerated computing",
    "gpuNum": 1,
    "hideHardwareSpecs": false,
    "memoryGiB": 256,
    "name": "ml.g4dn.16xlarge",
    "vcpuNum": 64
   },
   {
    "_defaultOrder": 35,
    "_isFastLaunch": false,
    "category": "Accelerated computing",
    "gpuNum": 1,
    "hideHardwareSpecs": false,
    "memoryGiB": 61,
    "name": "ml.p3.2xlarge",
    "vcpuNum": 8
   },
   {
    "_defaultOrder": 36,
    "_isFastLaunch": false,
    "category": "Accelerated computing",
    "gpuNum": 4,
    "hideHardwareSpecs": false,
    "memoryGiB": 244,
    "name": "ml.p3.8xlarge",
    "vcpuNum": 32
   },
   {
    "_defaultOrder": 37,
    "_isFastLaunch": false,
    "category": "Accelerated computing",
    "gpuNum": 8,
    "hideHardwareSpecs": false,
    "memoryGiB": 488,
    "name": "ml.p3.16xlarge",
    "vcpuNum": 64
   },
   {
    "_defaultOrder": 38,
    "_isFastLaunch": false,
    "category": "Accelerated computing",
    "gpuNum": 8,
    "hideHardwareSpecs": false,
    "memoryGiB": 768,
    "name": "ml.p3dn.24xlarge",
    "vcpuNum": 96
   },
   {
    "_defaultOrder": 39,
    "_isFastLaunch": false,
    "category": "Memory Optimized",
    "gpuNum": 0,
    "hideHardwareSpecs": false,
    "memoryGiB": 16,
    "name": "ml.r5.large",
    "vcpuNum": 2
   },
   {
    "_defaultOrder": 40,
    "_isFastLaunch": false,
    "category": "Memory Optimized",
    "gpuNum": 0,
    "hideHardwareSpecs": false,
    "memoryGiB": 32,
    "name": "ml.r5.xlarge",
    "vcpuNum": 4
   },
   {
    "_defaultOrder": 41,
    "_isFastLaunch": false,
    "category": "Memory Optimized",
    "gpuNum": 0,
    "hideHardwareSpecs": false,
    "memoryGiB": 64,
    "name": "ml.r5.2xlarge",
    "vcpuNum": 8
   },
   {
    "_defaultOrder": 42,
    "_isFastLaunch": false,
    "category": "Memory Optimized",
    "gpuNum": 0,
    "hideHardwareSpecs": false,
    "memoryGiB": 128,
    "name": "ml.r5.4xlarge",
    "vcpuNum": 16
   },
   {
    "_defaultOrder": 43,
    "_isFastLaunch": false,
    "category": "Memory Optimized",
    "gpuNum": 0,
    "hideHardwareSpecs": false,
    "memoryGiB": 256,
    "name": "ml.r5.8xlarge",
    "vcpuNum": 32
   },
   {
    "_defaultOrder": 44,
    "_isFastLaunch": false,
    "category": "Memory Optimized",
    "gpuNum": 0,
    "hideHardwareSpecs": false,
    "memoryGiB": 384,
    "name": "ml.r5.12xlarge",
    "vcpuNum": 48
   },
   {
    "_defaultOrder": 45,
    "_isFastLaunch": false,
    "category": "Memory Optimized",
    "gpuNum": 0,
    "hideHardwareSpecs": false,
    "memoryGiB": 512,
    "name": "ml.r5.16xlarge",
    "vcpuNum": 64
   },
   {
    "_defaultOrder": 46,
    "_isFastLaunch": false,
    "category": "Memory Optimized",
    "gpuNum": 0,
    "hideHardwareSpecs": false,
    "memoryGiB": 768,
    "name": "ml.r5.24xlarge",
    "vcpuNum": 96
   },
   {
    "_defaultOrder": 47,
    "_isFastLaunch": false,
    "category": "Accelerated computing",
    "gpuNum": 1,
    "hideHardwareSpecs": false,
    "memoryGiB": 16,
    "name": "ml.g5.xlarge",
    "vcpuNum": 4
   },
   {
    "_defaultOrder": 48,
    "_isFastLaunch": false,
    "category": "Accelerated computing",
    "gpuNum": 1,
    "hideHardwareSpecs": false,
    "memoryGiB": 32,
    "name": "ml.g5.2xlarge",
    "vcpuNum": 8
   },
   {
    "_defaultOrder": 49,
    "_isFastLaunch": false,
    "category": "Accelerated computing",
    "gpuNum": 1,
    "hideHardwareSpecs": false,
    "memoryGiB": 64,
    "name": "ml.g5.4xlarge",
    "vcpuNum": 16
   },
   {
    "_defaultOrder": 50,
    "_isFastLaunch": false,
    "category": "Accelerated computing",
    "gpuNum": 1,
    "hideHardwareSpecs": false,
    "memoryGiB": 128,
    "name": "ml.g5.8xlarge",
    "vcpuNum": 32
   },
   {
    "_defaultOrder": 51,
    "_isFastLaunch": false,
    "category": "Accelerated computing",
    "gpuNum": 1,
    "hideHardwareSpecs": false,
    "memoryGiB": 256,
    "name": "ml.g5.16xlarge",
    "vcpuNum": 64
   },
   {
    "_defaultOrder": 52,
    "_isFastLaunch": false,
    "category": "Accelerated computing",
    "gpuNum": 4,
    "hideHardwareSpecs": false,
    "memoryGiB": 192,
    "name": "ml.g5.12xlarge",
    "vcpuNum": 48
   },
   {
    "_defaultOrder": 53,
    "_isFastLaunch": false,
    "category": "Accelerated computing",
    "gpuNum": 4,
    "hideHardwareSpecs": false,
    "memoryGiB": 384,
    "name": "ml.g5.24xlarge",
    "vcpuNum": 96
   },
   {
    "_defaultOrder": 54,
    "_isFastLaunch": false,
    "category": "Accelerated computing",
    "gpuNum": 8,
    "hideHardwareSpecs": false,
    "memoryGiB": 768,
    "name": "ml.g5.48xlarge",
    "vcpuNum": 192
   },
   {
    "_defaultOrder": 55,
    "_isFastLaunch": false,
    "category": "Accelerated computing",
    "gpuNum": 8,
    "hideHardwareSpecs": false,
    "memoryGiB": 1152,
    "name": "ml.p4d.24xlarge",
    "vcpuNum": 96
   },
   {
    "_defaultOrder": 56,
    "_isFastLaunch": false,
    "category": "Accelerated computing",
    "gpuNum": 8,
    "hideHardwareSpecs": false,
    "memoryGiB": 1152,
    "name": "ml.p4de.24xlarge",
    "vcpuNum": 96
   }
  ],
  "instance_type": "ml.t3.medium",
  "kernelspec": {
   "display_name": "Python 3 (Data Science)",
   "language": "python",
   "name": "python3__SAGEMAKER_INTERNAL__arn:aws:sagemaker:eu-central-1:936697816551:image/datascience-1.0"
  },
  "language_info": {
   "codemirror_mode": {
    "name": "ipython",
    "version": 3
   },
   "file_extension": ".py",
   "mimetype": "text/x-python",
   "name": "python",
   "nbconvert_exporter": "python",
   "pygments_lexer": "ipython3",
   "version": "3.7.10"
  }
 },
 "nbformat": 4,
 "nbformat_minor": 5
}
